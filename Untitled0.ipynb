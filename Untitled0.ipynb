{
  "nbformat": 4,
  "nbformat_minor": 0,
  "metadata": {
    "colab": {
      "provenance": []
    },
    "kernelspec": {
      "name": "python3",
      "display_name": "Python 3"
    },
    "language_info": {
      "name": "python"
    }
  },
  "cells": [
    {
      "cell_type": "code",
      "execution_count": 139,
      "metadata": {
        "id": "0e9K-XC_87tT"
      },
      "outputs": [],
      "source": [
        "import os\n",
        "import keras\n",
        "from keras.layers import Dense\n",
        "from keras.models import load_model, Model\n",
        "from keras import backend as K\n",
        "from keras.datasets import mnist\n",
        "from keras.utils import np_utils\n",
        "import pandas as pd\n",
        "import numpy as np\n",
        "import matplotlib.pyplot as plt\n",
        "import seaborn as sns\n",
        "from sklearn.utils import resample\n",
        "from sklearn.utils import shuffle\n",
        "from sklearn.preprocessing import LabelEncoder\n",
        "from sklearn.model_selection import train_test_split\n",
        "from sklearn import metrics\n",
        "from sklearn.metrics import accuracy_score\n",
        "from sklearn.metrics import confusion_matrix, classification_report\n",
        "from sklearn.preprocessing import StandardScaler\n",
        "import tensorflow\n",
        "from tensorflow.keras.models import Sequential\n",
        "from tensorflow.keras.layers import Dense,Dropout\n",
        "from tensorflow.keras.callbacks import EarlyStopping\n",
        "from tensorflow.keras.layers import BatchNormalization\n",
        "df = pd.read_csv(\"loan_data.csv\")"
      ]
    },
    {
      "cell_type": "code",
      "source": [
        "df"
      ],
      "metadata": {
        "colab": {
          "base_uri": "https://localhost:8080/",
          "height": 488
        },
        "id": "gEqPMnPo9FRD",
        "outputId": "c10a2a9f-a5c7-40bb-ad43-2e2f48644b5f"
      },
      "execution_count": 140,
      "outputs": [
        {
          "output_type": "execute_result",
          "data": {
            "text/plain": [
              "      credit.policy             purpose  int.rate  installment  \\\n",
              "0                 1  debt_consolidation    0.1189       829.10   \n",
              "1                 1         credit_card    0.1071       228.22   \n",
              "2                 1  debt_consolidation    0.1357       366.86   \n",
              "3                 1  debt_consolidation    0.1008       162.34   \n",
              "4                 1         credit_card    0.1426       102.92   \n",
              "...             ...                 ...       ...          ...   \n",
              "9573              0           all_other    0.1461       344.76   \n",
              "9574              0           all_other    0.1253       257.70   \n",
              "9575              0  debt_consolidation    0.1071        97.81   \n",
              "9576              0    home_improvement    0.1600       351.58   \n",
              "9577              0  debt_consolidation    0.1392       853.43   \n",
              "\n",
              "      log.annual.inc    dti  fico  days.with.cr.line  revol.bal  revol.util  \\\n",
              "0          11.350407  19.48   737        5639.958333      28854        52.1   \n",
              "1          11.082143  14.29   707        2760.000000      33623        76.7   \n",
              "2          10.373491  11.63   682        4710.000000       3511        25.6   \n",
              "3          11.350407   8.10   712        2699.958333      33667        73.2   \n",
              "4          11.299732  14.97   667        4066.000000       4740        39.5   \n",
              "...              ...    ...   ...                ...        ...         ...   \n",
              "9573       12.180755  10.39   672       10474.000000     215372        82.1   \n",
              "9574       11.141862   0.21   722        4380.000000        184         1.1   \n",
              "9575       10.596635  13.09   687        3450.041667      10036        82.9   \n",
              "9576       10.819778  19.18   692        1800.000000          0         3.2   \n",
              "9577       11.264464  16.28   732        4740.000000      37879        57.0   \n",
              "\n",
              "      inq.last.6mths  delinq.2yrs  pub.rec  not.fully.paid  \n",
              "0                  0            0        0               0  \n",
              "1                  0            0        0               0  \n",
              "2                  1            0        0               0  \n",
              "3                  1            0        0               0  \n",
              "4                  0            1        0               0  \n",
              "...              ...          ...      ...             ...  \n",
              "9573               2            0        0               1  \n",
              "9574               5            0        0               1  \n",
              "9575               8            0        0               1  \n",
              "9576               5            0        0               1  \n",
              "9577               6            0        0               1  \n",
              "\n",
              "[9578 rows x 14 columns]"
            ],
            "text/html": [
              "\n",
              "  <div id=\"df-3ea7eb5c-0826-47d2-80e8-854948131b29\">\n",
              "    <div class=\"colab-df-container\">\n",
              "      <div>\n",
              "<style scoped>\n",
              "    .dataframe tbody tr th:only-of-type {\n",
              "        vertical-align: middle;\n",
              "    }\n",
              "\n",
              "    .dataframe tbody tr th {\n",
              "        vertical-align: top;\n",
              "    }\n",
              "\n",
              "    .dataframe thead th {\n",
              "        text-align: right;\n",
              "    }\n",
              "</style>\n",
              "<table border=\"1\" class=\"dataframe\">\n",
              "  <thead>\n",
              "    <tr style=\"text-align: right;\">\n",
              "      <th></th>\n",
              "      <th>credit.policy</th>\n",
              "      <th>purpose</th>\n",
              "      <th>int.rate</th>\n",
              "      <th>installment</th>\n",
              "      <th>log.annual.inc</th>\n",
              "      <th>dti</th>\n",
              "      <th>fico</th>\n",
              "      <th>days.with.cr.line</th>\n",
              "      <th>revol.bal</th>\n",
              "      <th>revol.util</th>\n",
              "      <th>inq.last.6mths</th>\n",
              "      <th>delinq.2yrs</th>\n",
              "      <th>pub.rec</th>\n",
              "      <th>not.fully.paid</th>\n",
              "    </tr>\n",
              "  </thead>\n",
              "  <tbody>\n",
              "    <tr>\n",
              "      <th>0</th>\n",
              "      <td>1</td>\n",
              "      <td>debt_consolidation</td>\n",
              "      <td>0.1189</td>\n",
              "      <td>829.10</td>\n",
              "      <td>11.350407</td>\n",
              "      <td>19.48</td>\n",
              "      <td>737</td>\n",
              "      <td>5639.958333</td>\n",
              "      <td>28854</td>\n",
              "      <td>52.1</td>\n",
              "      <td>0</td>\n",
              "      <td>0</td>\n",
              "      <td>0</td>\n",
              "      <td>0</td>\n",
              "    </tr>\n",
              "    <tr>\n",
              "      <th>1</th>\n",
              "      <td>1</td>\n",
              "      <td>credit_card</td>\n",
              "      <td>0.1071</td>\n",
              "      <td>228.22</td>\n",
              "      <td>11.082143</td>\n",
              "      <td>14.29</td>\n",
              "      <td>707</td>\n",
              "      <td>2760.000000</td>\n",
              "      <td>33623</td>\n",
              "      <td>76.7</td>\n",
              "      <td>0</td>\n",
              "      <td>0</td>\n",
              "      <td>0</td>\n",
              "      <td>0</td>\n",
              "    </tr>\n",
              "    <tr>\n",
              "      <th>2</th>\n",
              "      <td>1</td>\n",
              "      <td>debt_consolidation</td>\n",
              "      <td>0.1357</td>\n",
              "      <td>366.86</td>\n",
              "      <td>10.373491</td>\n",
              "      <td>11.63</td>\n",
              "      <td>682</td>\n",
              "      <td>4710.000000</td>\n",
              "      <td>3511</td>\n",
              "      <td>25.6</td>\n",
              "      <td>1</td>\n",
              "      <td>0</td>\n",
              "      <td>0</td>\n",
              "      <td>0</td>\n",
              "    </tr>\n",
              "    <tr>\n",
              "      <th>3</th>\n",
              "      <td>1</td>\n",
              "      <td>debt_consolidation</td>\n",
              "      <td>0.1008</td>\n",
              "      <td>162.34</td>\n",
              "      <td>11.350407</td>\n",
              "      <td>8.10</td>\n",
              "      <td>712</td>\n",
              "      <td>2699.958333</td>\n",
              "      <td>33667</td>\n",
              "      <td>73.2</td>\n",
              "      <td>1</td>\n",
              "      <td>0</td>\n",
              "      <td>0</td>\n",
              "      <td>0</td>\n",
              "    </tr>\n",
              "    <tr>\n",
              "      <th>4</th>\n",
              "      <td>1</td>\n",
              "      <td>credit_card</td>\n",
              "      <td>0.1426</td>\n",
              "      <td>102.92</td>\n",
              "      <td>11.299732</td>\n",
              "      <td>14.97</td>\n",
              "      <td>667</td>\n",
              "      <td>4066.000000</td>\n",
              "      <td>4740</td>\n",
              "      <td>39.5</td>\n",
              "      <td>0</td>\n",
              "      <td>1</td>\n",
              "      <td>0</td>\n",
              "      <td>0</td>\n",
              "    </tr>\n",
              "    <tr>\n",
              "      <th>...</th>\n",
              "      <td>...</td>\n",
              "      <td>...</td>\n",
              "      <td>...</td>\n",
              "      <td>...</td>\n",
              "      <td>...</td>\n",
              "      <td>...</td>\n",
              "      <td>...</td>\n",
              "      <td>...</td>\n",
              "      <td>...</td>\n",
              "      <td>...</td>\n",
              "      <td>...</td>\n",
              "      <td>...</td>\n",
              "      <td>...</td>\n",
              "      <td>...</td>\n",
              "    </tr>\n",
              "    <tr>\n",
              "      <th>9573</th>\n",
              "      <td>0</td>\n",
              "      <td>all_other</td>\n",
              "      <td>0.1461</td>\n",
              "      <td>344.76</td>\n",
              "      <td>12.180755</td>\n",
              "      <td>10.39</td>\n",
              "      <td>672</td>\n",
              "      <td>10474.000000</td>\n",
              "      <td>215372</td>\n",
              "      <td>82.1</td>\n",
              "      <td>2</td>\n",
              "      <td>0</td>\n",
              "      <td>0</td>\n",
              "      <td>1</td>\n",
              "    </tr>\n",
              "    <tr>\n",
              "      <th>9574</th>\n",
              "      <td>0</td>\n",
              "      <td>all_other</td>\n",
              "      <td>0.1253</td>\n",
              "      <td>257.70</td>\n",
              "      <td>11.141862</td>\n",
              "      <td>0.21</td>\n",
              "      <td>722</td>\n",
              "      <td>4380.000000</td>\n",
              "      <td>184</td>\n",
              "      <td>1.1</td>\n",
              "      <td>5</td>\n",
              "      <td>0</td>\n",
              "      <td>0</td>\n",
              "      <td>1</td>\n",
              "    </tr>\n",
              "    <tr>\n",
              "      <th>9575</th>\n",
              "      <td>0</td>\n",
              "      <td>debt_consolidation</td>\n",
              "      <td>0.1071</td>\n",
              "      <td>97.81</td>\n",
              "      <td>10.596635</td>\n",
              "      <td>13.09</td>\n",
              "      <td>687</td>\n",
              "      <td>3450.041667</td>\n",
              "      <td>10036</td>\n",
              "      <td>82.9</td>\n",
              "      <td>8</td>\n",
              "      <td>0</td>\n",
              "      <td>0</td>\n",
              "      <td>1</td>\n",
              "    </tr>\n",
              "    <tr>\n",
              "      <th>9576</th>\n",
              "      <td>0</td>\n",
              "      <td>home_improvement</td>\n",
              "      <td>0.1600</td>\n",
              "      <td>351.58</td>\n",
              "      <td>10.819778</td>\n",
              "      <td>19.18</td>\n",
              "      <td>692</td>\n",
              "      <td>1800.000000</td>\n",
              "      <td>0</td>\n",
              "      <td>3.2</td>\n",
              "      <td>5</td>\n",
              "      <td>0</td>\n",
              "      <td>0</td>\n",
              "      <td>1</td>\n",
              "    </tr>\n",
              "    <tr>\n",
              "      <th>9577</th>\n",
              "      <td>0</td>\n",
              "      <td>debt_consolidation</td>\n",
              "      <td>0.1392</td>\n",
              "      <td>853.43</td>\n",
              "      <td>11.264464</td>\n",
              "      <td>16.28</td>\n",
              "      <td>732</td>\n",
              "      <td>4740.000000</td>\n",
              "      <td>37879</td>\n",
              "      <td>57.0</td>\n",
              "      <td>6</td>\n",
              "      <td>0</td>\n",
              "      <td>0</td>\n",
              "      <td>1</td>\n",
              "    </tr>\n",
              "  </tbody>\n",
              "</table>\n",
              "<p>9578 rows × 14 columns</p>\n",
              "</div>\n",
              "      <button class=\"colab-df-convert\" onclick=\"convertToInteractive('df-3ea7eb5c-0826-47d2-80e8-854948131b29')\"\n",
              "              title=\"Convert this dataframe to an interactive table.\"\n",
              "              style=\"display:none;\">\n",
              "        \n",
              "  <svg xmlns=\"http://www.w3.org/2000/svg\" height=\"24px\"viewBox=\"0 0 24 24\"\n",
              "       width=\"24px\">\n",
              "    <path d=\"M0 0h24v24H0V0z\" fill=\"none\"/>\n",
              "    <path d=\"M18.56 5.44l.94 2.06.94-2.06 2.06-.94-2.06-.94-.94-2.06-.94 2.06-2.06.94zm-11 1L8.5 8.5l.94-2.06 2.06-.94-2.06-.94L8.5 2.5l-.94 2.06-2.06.94zm10 10l.94 2.06.94-2.06 2.06-.94-2.06-.94-.94-2.06-.94 2.06-2.06.94z\"/><path d=\"M17.41 7.96l-1.37-1.37c-.4-.4-.92-.59-1.43-.59-.52 0-1.04.2-1.43.59L10.3 9.45l-7.72 7.72c-.78.78-.78 2.05 0 2.83L4 21.41c.39.39.9.59 1.41.59.51 0 1.02-.2 1.41-.59l7.78-7.78 2.81-2.81c.8-.78.8-2.07 0-2.86zM5.41 20L4 18.59l7.72-7.72 1.47 1.35L5.41 20z\"/>\n",
              "  </svg>\n",
              "      </button>\n",
              "      \n",
              "  <style>\n",
              "    .colab-df-container {\n",
              "      display:flex;\n",
              "      flex-wrap:wrap;\n",
              "      gap: 12px;\n",
              "    }\n",
              "\n",
              "    .colab-df-convert {\n",
              "      background-color: #E8F0FE;\n",
              "      border: none;\n",
              "      border-radius: 50%;\n",
              "      cursor: pointer;\n",
              "      display: none;\n",
              "      fill: #1967D2;\n",
              "      height: 32px;\n",
              "      padding: 0 0 0 0;\n",
              "      width: 32px;\n",
              "    }\n",
              "\n",
              "    .colab-df-convert:hover {\n",
              "      background-color: #E2EBFA;\n",
              "      box-shadow: 0px 1px 2px rgba(60, 64, 67, 0.3), 0px 1px 3px 1px rgba(60, 64, 67, 0.15);\n",
              "      fill: #174EA6;\n",
              "    }\n",
              "\n",
              "    [theme=dark] .colab-df-convert {\n",
              "      background-color: #3B4455;\n",
              "      fill: #D2E3FC;\n",
              "    }\n",
              "\n",
              "    [theme=dark] .colab-df-convert:hover {\n",
              "      background-color: #434B5C;\n",
              "      box-shadow: 0px 1px 3px 1px rgba(0, 0, 0, 0.15);\n",
              "      filter: drop-shadow(0px 1px 2px rgba(0, 0, 0, 0.3));\n",
              "      fill: #FFFFFF;\n",
              "    }\n",
              "  </style>\n",
              "\n",
              "      <script>\n",
              "        const buttonEl =\n",
              "          document.querySelector('#df-3ea7eb5c-0826-47d2-80e8-854948131b29 button.colab-df-convert');\n",
              "        buttonEl.style.display =\n",
              "          google.colab.kernel.accessAllowed ? 'block' : 'none';\n",
              "\n",
              "        async function convertToInteractive(key) {\n",
              "          const element = document.querySelector('#df-3ea7eb5c-0826-47d2-80e8-854948131b29');\n",
              "          const dataTable =\n",
              "            await google.colab.kernel.invokeFunction('convertToInteractive',\n",
              "                                                     [key], {});\n",
              "          if (!dataTable) return;\n",
              "\n",
              "          const docLinkHtml = 'Like what you see? Visit the ' +\n",
              "            '<a target=\"_blank\" href=https://colab.research.google.com/notebooks/data_table.ipynb>data table notebook</a>'\n",
              "            + ' to learn more about interactive tables.';\n",
              "          element.innerHTML = '';\n",
              "          dataTable['output_type'] = 'display_data';\n",
              "          await google.colab.output.renderOutput(dataTable, element);\n",
              "          const docLink = document.createElement('div');\n",
              "          docLink.innerHTML = docLinkHtml;\n",
              "          element.appendChild(docLink);\n",
              "        }\n",
              "      </script>\n",
              "    </div>\n",
              "  </div>\n",
              "  "
            ]
          },
          "metadata": {},
          "execution_count": 140
        }
      ]
    },
    {
      "cell_type": "code",
      "source": [
        "df.shape"
      ],
      "metadata": {
        "colab": {
          "base_uri": "https://localhost:8080/"
        },
        "id": "OoZc3CTE9jQC",
        "outputId": "5b18ccca-6f0f-4133-c42b-80b5f936e9ae"
      },
      "execution_count": 141,
      "outputs": [
        {
          "output_type": "execute_result",
          "data": {
            "text/plain": [
              "(9578, 14)"
            ]
          },
          "metadata": {},
          "execution_count": 141
        }
      ]
    },
    {
      "cell_type": "code",
      "source": [
        "df.head()"
      ],
      "metadata": {
        "colab": {
          "base_uri": "https://localhost:8080/",
          "height": 270
        },
        "id": "kCQx-7g8-LQr",
        "outputId": "0e78de25-3156-48b7-dbb6-9fb218b8ad76"
      },
      "execution_count": 142,
      "outputs": [
        {
          "output_type": "execute_result",
          "data": {
            "text/plain": [
              "   credit.policy             purpose  int.rate  installment  log.annual.inc  \\\n",
              "0              1  debt_consolidation    0.1189       829.10       11.350407   \n",
              "1              1         credit_card    0.1071       228.22       11.082143   \n",
              "2              1  debt_consolidation    0.1357       366.86       10.373491   \n",
              "3              1  debt_consolidation    0.1008       162.34       11.350407   \n",
              "4              1         credit_card    0.1426       102.92       11.299732   \n",
              "\n",
              "     dti  fico  days.with.cr.line  revol.bal  revol.util  inq.last.6mths  \\\n",
              "0  19.48   737        5639.958333      28854        52.1               0   \n",
              "1  14.29   707        2760.000000      33623        76.7               0   \n",
              "2  11.63   682        4710.000000       3511        25.6               1   \n",
              "3   8.10   712        2699.958333      33667        73.2               1   \n",
              "4  14.97   667        4066.000000       4740        39.5               0   \n",
              "\n",
              "   delinq.2yrs  pub.rec  not.fully.paid  \n",
              "0            0        0               0  \n",
              "1            0        0               0  \n",
              "2            0        0               0  \n",
              "3            0        0               0  \n",
              "4            1        0               0  "
            ],
            "text/html": [
              "\n",
              "  <div id=\"df-4421475a-97f3-4df8-ad98-0c8057e9cb29\">\n",
              "    <div class=\"colab-df-container\">\n",
              "      <div>\n",
              "<style scoped>\n",
              "    .dataframe tbody tr th:only-of-type {\n",
              "        vertical-align: middle;\n",
              "    }\n",
              "\n",
              "    .dataframe tbody tr th {\n",
              "        vertical-align: top;\n",
              "    }\n",
              "\n",
              "    .dataframe thead th {\n",
              "        text-align: right;\n",
              "    }\n",
              "</style>\n",
              "<table border=\"1\" class=\"dataframe\">\n",
              "  <thead>\n",
              "    <tr style=\"text-align: right;\">\n",
              "      <th></th>\n",
              "      <th>credit.policy</th>\n",
              "      <th>purpose</th>\n",
              "      <th>int.rate</th>\n",
              "      <th>installment</th>\n",
              "      <th>log.annual.inc</th>\n",
              "      <th>dti</th>\n",
              "      <th>fico</th>\n",
              "      <th>days.with.cr.line</th>\n",
              "      <th>revol.bal</th>\n",
              "      <th>revol.util</th>\n",
              "      <th>inq.last.6mths</th>\n",
              "      <th>delinq.2yrs</th>\n",
              "      <th>pub.rec</th>\n",
              "      <th>not.fully.paid</th>\n",
              "    </tr>\n",
              "  </thead>\n",
              "  <tbody>\n",
              "    <tr>\n",
              "      <th>0</th>\n",
              "      <td>1</td>\n",
              "      <td>debt_consolidation</td>\n",
              "      <td>0.1189</td>\n",
              "      <td>829.10</td>\n",
              "      <td>11.350407</td>\n",
              "      <td>19.48</td>\n",
              "      <td>737</td>\n",
              "      <td>5639.958333</td>\n",
              "      <td>28854</td>\n",
              "      <td>52.1</td>\n",
              "      <td>0</td>\n",
              "      <td>0</td>\n",
              "      <td>0</td>\n",
              "      <td>0</td>\n",
              "    </tr>\n",
              "    <tr>\n",
              "      <th>1</th>\n",
              "      <td>1</td>\n",
              "      <td>credit_card</td>\n",
              "      <td>0.1071</td>\n",
              "      <td>228.22</td>\n",
              "      <td>11.082143</td>\n",
              "      <td>14.29</td>\n",
              "      <td>707</td>\n",
              "      <td>2760.000000</td>\n",
              "      <td>33623</td>\n",
              "      <td>76.7</td>\n",
              "      <td>0</td>\n",
              "      <td>0</td>\n",
              "      <td>0</td>\n",
              "      <td>0</td>\n",
              "    </tr>\n",
              "    <tr>\n",
              "      <th>2</th>\n",
              "      <td>1</td>\n",
              "      <td>debt_consolidation</td>\n",
              "      <td>0.1357</td>\n",
              "      <td>366.86</td>\n",
              "      <td>10.373491</td>\n",
              "      <td>11.63</td>\n",
              "      <td>682</td>\n",
              "      <td>4710.000000</td>\n",
              "      <td>3511</td>\n",
              "      <td>25.6</td>\n",
              "      <td>1</td>\n",
              "      <td>0</td>\n",
              "      <td>0</td>\n",
              "      <td>0</td>\n",
              "    </tr>\n",
              "    <tr>\n",
              "      <th>3</th>\n",
              "      <td>1</td>\n",
              "      <td>debt_consolidation</td>\n",
              "      <td>0.1008</td>\n",
              "      <td>162.34</td>\n",
              "      <td>11.350407</td>\n",
              "      <td>8.10</td>\n",
              "      <td>712</td>\n",
              "      <td>2699.958333</td>\n",
              "      <td>33667</td>\n",
              "      <td>73.2</td>\n",
              "      <td>1</td>\n",
              "      <td>0</td>\n",
              "      <td>0</td>\n",
              "      <td>0</td>\n",
              "    </tr>\n",
              "    <tr>\n",
              "      <th>4</th>\n",
              "      <td>1</td>\n",
              "      <td>credit_card</td>\n",
              "      <td>0.1426</td>\n",
              "      <td>102.92</td>\n",
              "      <td>11.299732</td>\n",
              "      <td>14.97</td>\n",
              "      <td>667</td>\n",
              "      <td>4066.000000</td>\n",
              "      <td>4740</td>\n",
              "      <td>39.5</td>\n",
              "      <td>0</td>\n",
              "      <td>1</td>\n",
              "      <td>0</td>\n",
              "      <td>0</td>\n",
              "    </tr>\n",
              "  </tbody>\n",
              "</table>\n",
              "</div>\n",
              "      <button class=\"colab-df-convert\" onclick=\"convertToInteractive('df-4421475a-97f3-4df8-ad98-0c8057e9cb29')\"\n",
              "              title=\"Convert this dataframe to an interactive table.\"\n",
              "              style=\"display:none;\">\n",
              "        \n",
              "  <svg xmlns=\"http://www.w3.org/2000/svg\" height=\"24px\"viewBox=\"0 0 24 24\"\n",
              "       width=\"24px\">\n",
              "    <path d=\"M0 0h24v24H0V0z\" fill=\"none\"/>\n",
              "    <path d=\"M18.56 5.44l.94 2.06.94-2.06 2.06-.94-2.06-.94-.94-2.06-.94 2.06-2.06.94zm-11 1L8.5 8.5l.94-2.06 2.06-.94-2.06-.94L8.5 2.5l-.94 2.06-2.06.94zm10 10l.94 2.06.94-2.06 2.06-.94-2.06-.94-.94-2.06-.94 2.06-2.06.94z\"/><path d=\"M17.41 7.96l-1.37-1.37c-.4-.4-.92-.59-1.43-.59-.52 0-1.04.2-1.43.59L10.3 9.45l-7.72 7.72c-.78.78-.78 2.05 0 2.83L4 21.41c.39.39.9.59 1.41.59.51 0 1.02-.2 1.41-.59l7.78-7.78 2.81-2.81c.8-.78.8-2.07 0-2.86zM5.41 20L4 18.59l7.72-7.72 1.47 1.35L5.41 20z\"/>\n",
              "  </svg>\n",
              "      </button>\n",
              "      \n",
              "  <style>\n",
              "    .colab-df-container {\n",
              "      display:flex;\n",
              "      flex-wrap:wrap;\n",
              "      gap: 12px;\n",
              "    }\n",
              "\n",
              "    .colab-df-convert {\n",
              "      background-color: #E8F0FE;\n",
              "      border: none;\n",
              "      border-radius: 50%;\n",
              "      cursor: pointer;\n",
              "      display: none;\n",
              "      fill: #1967D2;\n",
              "      height: 32px;\n",
              "      padding: 0 0 0 0;\n",
              "      width: 32px;\n",
              "    }\n",
              "\n",
              "    .colab-df-convert:hover {\n",
              "      background-color: #E2EBFA;\n",
              "      box-shadow: 0px 1px 2px rgba(60, 64, 67, 0.3), 0px 1px 3px 1px rgba(60, 64, 67, 0.15);\n",
              "      fill: #174EA6;\n",
              "    }\n",
              "\n",
              "    [theme=dark] .colab-df-convert {\n",
              "      background-color: #3B4455;\n",
              "      fill: #D2E3FC;\n",
              "    }\n",
              "\n",
              "    [theme=dark] .colab-df-convert:hover {\n",
              "      background-color: #434B5C;\n",
              "      box-shadow: 0px 1px 3px 1px rgba(0, 0, 0, 0.15);\n",
              "      filter: drop-shadow(0px 1px 2px rgba(0, 0, 0, 0.3));\n",
              "      fill: #FFFFFF;\n",
              "    }\n",
              "  </style>\n",
              "\n",
              "      <script>\n",
              "        const buttonEl =\n",
              "          document.querySelector('#df-4421475a-97f3-4df8-ad98-0c8057e9cb29 button.colab-df-convert');\n",
              "        buttonEl.style.display =\n",
              "          google.colab.kernel.accessAllowed ? 'block' : 'none';\n",
              "\n",
              "        async function convertToInteractive(key) {\n",
              "          const element = document.querySelector('#df-4421475a-97f3-4df8-ad98-0c8057e9cb29');\n",
              "          const dataTable =\n",
              "            await google.colab.kernel.invokeFunction('convertToInteractive',\n",
              "                                                     [key], {});\n",
              "          if (!dataTable) return;\n",
              "\n",
              "          const docLinkHtml = 'Like what you see? Visit the ' +\n",
              "            '<a target=\"_blank\" href=https://colab.research.google.com/notebooks/data_table.ipynb>data table notebook</a>'\n",
              "            + ' to learn more about interactive tables.';\n",
              "          element.innerHTML = '';\n",
              "          dataTable['output_type'] = 'display_data';\n",
              "          await google.colab.output.renderOutput(dataTable, element);\n",
              "          const docLink = document.createElement('div');\n",
              "          docLink.innerHTML = docLinkHtml;\n",
              "          element.appendChild(docLink);\n",
              "        }\n",
              "      </script>\n",
              "    </div>\n",
              "  </div>\n",
              "  "
            ]
          },
          "metadata": {},
          "execution_count": 142
        }
      ]
    },
    {
      "cell_type": "code",
      "source": [
        "df.describe()"
      ],
      "metadata": {
        "colab": {
          "base_uri": "https://localhost:8080/",
          "height": 364
        },
        "id": "UBxlR1lH-PS0",
        "outputId": "bb59c2af-3949-4bb9-eb8f-92c42a67c419"
      },
      "execution_count": 143,
      "outputs": [
        {
          "output_type": "execute_result",
          "data": {
            "text/plain": [
              "       credit.policy     int.rate  installment  log.annual.inc          dti  \\\n",
              "count    9578.000000  9578.000000  9578.000000     9578.000000  9578.000000   \n",
              "mean        0.804970     0.122640   319.089413       10.932117    12.606679   \n",
              "std         0.396245     0.026847   207.071301        0.614813     6.883970   \n",
              "min         0.000000     0.060000    15.670000        7.547502     0.000000   \n",
              "25%         1.000000     0.103900   163.770000       10.558414     7.212500   \n",
              "50%         1.000000     0.122100   268.950000       10.928884    12.665000   \n",
              "75%         1.000000     0.140700   432.762500       11.291293    17.950000   \n",
              "max         1.000000     0.216400   940.140000       14.528354    29.960000   \n",
              "\n",
              "              fico  days.with.cr.line     revol.bal   revol.util  \\\n",
              "count  9578.000000        9578.000000  9.578000e+03  9578.000000   \n",
              "mean    710.846314        4560.767197  1.691396e+04    46.799236   \n",
              "std      37.970537        2496.930377  3.375619e+04    29.014417   \n",
              "min     612.000000         178.958333  0.000000e+00     0.000000   \n",
              "25%     682.000000        2820.000000  3.187000e+03    22.600000   \n",
              "50%     707.000000        4139.958333  8.596000e+03    46.300000   \n",
              "75%     737.000000        5730.000000  1.824950e+04    70.900000   \n",
              "max     827.000000       17639.958330  1.207359e+06   119.000000   \n",
              "\n",
              "       inq.last.6mths  delinq.2yrs      pub.rec  not.fully.paid  \n",
              "count     9578.000000  9578.000000  9578.000000     9578.000000  \n",
              "mean         1.577469     0.163708     0.062122        0.160054  \n",
              "std          2.200245     0.546215     0.262126        0.366676  \n",
              "min          0.000000     0.000000     0.000000        0.000000  \n",
              "25%          0.000000     0.000000     0.000000        0.000000  \n",
              "50%          1.000000     0.000000     0.000000        0.000000  \n",
              "75%          2.000000     0.000000     0.000000        0.000000  \n",
              "max         33.000000    13.000000     5.000000        1.000000  "
            ],
            "text/html": [
              "\n",
              "  <div id=\"df-9ad8cbe1-671e-4968-b2e3-ac4fbcadd531\">\n",
              "    <div class=\"colab-df-container\">\n",
              "      <div>\n",
              "<style scoped>\n",
              "    .dataframe tbody tr th:only-of-type {\n",
              "        vertical-align: middle;\n",
              "    }\n",
              "\n",
              "    .dataframe tbody tr th {\n",
              "        vertical-align: top;\n",
              "    }\n",
              "\n",
              "    .dataframe thead th {\n",
              "        text-align: right;\n",
              "    }\n",
              "</style>\n",
              "<table border=\"1\" class=\"dataframe\">\n",
              "  <thead>\n",
              "    <tr style=\"text-align: right;\">\n",
              "      <th></th>\n",
              "      <th>credit.policy</th>\n",
              "      <th>int.rate</th>\n",
              "      <th>installment</th>\n",
              "      <th>log.annual.inc</th>\n",
              "      <th>dti</th>\n",
              "      <th>fico</th>\n",
              "      <th>days.with.cr.line</th>\n",
              "      <th>revol.bal</th>\n",
              "      <th>revol.util</th>\n",
              "      <th>inq.last.6mths</th>\n",
              "      <th>delinq.2yrs</th>\n",
              "      <th>pub.rec</th>\n",
              "      <th>not.fully.paid</th>\n",
              "    </tr>\n",
              "  </thead>\n",
              "  <tbody>\n",
              "    <tr>\n",
              "      <th>count</th>\n",
              "      <td>9578.000000</td>\n",
              "      <td>9578.000000</td>\n",
              "      <td>9578.000000</td>\n",
              "      <td>9578.000000</td>\n",
              "      <td>9578.000000</td>\n",
              "      <td>9578.000000</td>\n",
              "      <td>9578.000000</td>\n",
              "      <td>9.578000e+03</td>\n",
              "      <td>9578.000000</td>\n",
              "      <td>9578.000000</td>\n",
              "      <td>9578.000000</td>\n",
              "      <td>9578.000000</td>\n",
              "      <td>9578.000000</td>\n",
              "    </tr>\n",
              "    <tr>\n",
              "      <th>mean</th>\n",
              "      <td>0.804970</td>\n",
              "      <td>0.122640</td>\n",
              "      <td>319.089413</td>\n",
              "      <td>10.932117</td>\n",
              "      <td>12.606679</td>\n",
              "      <td>710.846314</td>\n",
              "      <td>4560.767197</td>\n",
              "      <td>1.691396e+04</td>\n",
              "      <td>46.799236</td>\n",
              "      <td>1.577469</td>\n",
              "      <td>0.163708</td>\n",
              "      <td>0.062122</td>\n",
              "      <td>0.160054</td>\n",
              "    </tr>\n",
              "    <tr>\n",
              "      <th>std</th>\n",
              "      <td>0.396245</td>\n",
              "      <td>0.026847</td>\n",
              "      <td>207.071301</td>\n",
              "      <td>0.614813</td>\n",
              "      <td>6.883970</td>\n",
              "      <td>37.970537</td>\n",
              "      <td>2496.930377</td>\n",
              "      <td>3.375619e+04</td>\n",
              "      <td>29.014417</td>\n",
              "      <td>2.200245</td>\n",
              "      <td>0.546215</td>\n",
              "      <td>0.262126</td>\n",
              "      <td>0.366676</td>\n",
              "    </tr>\n",
              "    <tr>\n",
              "      <th>min</th>\n",
              "      <td>0.000000</td>\n",
              "      <td>0.060000</td>\n",
              "      <td>15.670000</td>\n",
              "      <td>7.547502</td>\n",
              "      <td>0.000000</td>\n",
              "      <td>612.000000</td>\n",
              "      <td>178.958333</td>\n",
              "      <td>0.000000e+00</td>\n",
              "      <td>0.000000</td>\n",
              "      <td>0.000000</td>\n",
              "      <td>0.000000</td>\n",
              "      <td>0.000000</td>\n",
              "      <td>0.000000</td>\n",
              "    </tr>\n",
              "    <tr>\n",
              "      <th>25%</th>\n",
              "      <td>1.000000</td>\n",
              "      <td>0.103900</td>\n",
              "      <td>163.770000</td>\n",
              "      <td>10.558414</td>\n",
              "      <td>7.212500</td>\n",
              "      <td>682.000000</td>\n",
              "      <td>2820.000000</td>\n",
              "      <td>3.187000e+03</td>\n",
              "      <td>22.600000</td>\n",
              "      <td>0.000000</td>\n",
              "      <td>0.000000</td>\n",
              "      <td>0.000000</td>\n",
              "      <td>0.000000</td>\n",
              "    </tr>\n",
              "    <tr>\n",
              "      <th>50%</th>\n",
              "      <td>1.000000</td>\n",
              "      <td>0.122100</td>\n",
              "      <td>268.950000</td>\n",
              "      <td>10.928884</td>\n",
              "      <td>12.665000</td>\n",
              "      <td>707.000000</td>\n",
              "      <td>4139.958333</td>\n",
              "      <td>8.596000e+03</td>\n",
              "      <td>46.300000</td>\n",
              "      <td>1.000000</td>\n",
              "      <td>0.000000</td>\n",
              "      <td>0.000000</td>\n",
              "      <td>0.000000</td>\n",
              "    </tr>\n",
              "    <tr>\n",
              "      <th>75%</th>\n",
              "      <td>1.000000</td>\n",
              "      <td>0.140700</td>\n",
              "      <td>432.762500</td>\n",
              "      <td>11.291293</td>\n",
              "      <td>17.950000</td>\n",
              "      <td>737.000000</td>\n",
              "      <td>5730.000000</td>\n",
              "      <td>1.824950e+04</td>\n",
              "      <td>70.900000</td>\n",
              "      <td>2.000000</td>\n",
              "      <td>0.000000</td>\n",
              "      <td>0.000000</td>\n",
              "      <td>0.000000</td>\n",
              "    </tr>\n",
              "    <tr>\n",
              "      <th>max</th>\n",
              "      <td>1.000000</td>\n",
              "      <td>0.216400</td>\n",
              "      <td>940.140000</td>\n",
              "      <td>14.528354</td>\n",
              "      <td>29.960000</td>\n",
              "      <td>827.000000</td>\n",
              "      <td>17639.958330</td>\n",
              "      <td>1.207359e+06</td>\n",
              "      <td>119.000000</td>\n",
              "      <td>33.000000</td>\n",
              "      <td>13.000000</td>\n",
              "      <td>5.000000</td>\n",
              "      <td>1.000000</td>\n",
              "    </tr>\n",
              "  </tbody>\n",
              "</table>\n",
              "</div>\n",
              "      <button class=\"colab-df-convert\" onclick=\"convertToInteractive('df-9ad8cbe1-671e-4968-b2e3-ac4fbcadd531')\"\n",
              "              title=\"Convert this dataframe to an interactive table.\"\n",
              "              style=\"display:none;\">\n",
              "        \n",
              "  <svg xmlns=\"http://www.w3.org/2000/svg\" height=\"24px\"viewBox=\"0 0 24 24\"\n",
              "       width=\"24px\">\n",
              "    <path d=\"M0 0h24v24H0V0z\" fill=\"none\"/>\n",
              "    <path d=\"M18.56 5.44l.94 2.06.94-2.06 2.06-.94-2.06-.94-.94-2.06-.94 2.06-2.06.94zm-11 1L8.5 8.5l.94-2.06 2.06-.94-2.06-.94L8.5 2.5l-.94 2.06-2.06.94zm10 10l.94 2.06.94-2.06 2.06-.94-2.06-.94-.94-2.06-.94 2.06-2.06.94z\"/><path d=\"M17.41 7.96l-1.37-1.37c-.4-.4-.92-.59-1.43-.59-.52 0-1.04.2-1.43.59L10.3 9.45l-7.72 7.72c-.78.78-.78 2.05 0 2.83L4 21.41c.39.39.9.59 1.41.59.51 0 1.02-.2 1.41-.59l7.78-7.78 2.81-2.81c.8-.78.8-2.07 0-2.86zM5.41 20L4 18.59l7.72-7.72 1.47 1.35L5.41 20z\"/>\n",
              "  </svg>\n",
              "      </button>\n",
              "      \n",
              "  <style>\n",
              "    .colab-df-container {\n",
              "      display:flex;\n",
              "      flex-wrap:wrap;\n",
              "      gap: 12px;\n",
              "    }\n",
              "\n",
              "    .colab-df-convert {\n",
              "      background-color: #E8F0FE;\n",
              "      border: none;\n",
              "      border-radius: 50%;\n",
              "      cursor: pointer;\n",
              "      display: none;\n",
              "      fill: #1967D2;\n",
              "      height: 32px;\n",
              "      padding: 0 0 0 0;\n",
              "      width: 32px;\n",
              "    }\n",
              "\n",
              "    .colab-df-convert:hover {\n",
              "      background-color: #E2EBFA;\n",
              "      box-shadow: 0px 1px 2px rgba(60, 64, 67, 0.3), 0px 1px 3px 1px rgba(60, 64, 67, 0.15);\n",
              "      fill: #174EA6;\n",
              "    }\n",
              "\n",
              "    [theme=dark] .colab-df-convert {\n",
              "      background-color: #3B4455;\n",
              "      fill: #D2E3FC;\n",
              "    }\n",
              "\n",
              "    [theme=dark] .colab-df-convert:hover {\n",
              "      background-color: #434B5C;\n",
              "      box-shadow: 0px 1px 3px 1px rgba(0, 0, 0, 0.15);\n",
              "      filter: drop-shadow(0px 1px 2px rgba(0, 0, 0, 0.3));\n",
              "      fill: #FFFFFF;\n",
              "    }\n",
              "  </style>\n",
              "\n",
              "      <script>\n",
              "        const buttonEl =\n",
              "          document.querySelector('#df-9ad8cbe1-671e-4968-b2e3-ac4fbcadd531 button.colab-df-convert');\n",
              "        buttonEl.style.display =\n",
              "          google.colab.kernel.accessAllowed ? 'block' : 'none';\n",
              "\n",
              "        async function convertToInteractive(key) {\n",
              "          const element = document.querySelector('#df-9ad8cbe1-671e-4968-b2e3-ac4fbcadd531');\n",
              "          const dataTable =\n",
              "            await google.colab.kernel.invokeFunction('convertToInteractive',\n",
              "                                                     [key], {});\n",
              "          if (!dataTable) return;\n",
              "\n",
              "          const docLinkHtml = 'Like what you see? Visit the ' +\n",
              "            '<a target=\"_blank\" href=https://colab.research.google.com/notebooks/data_table.ipynb>data table notebook</a>'\n",
              "            + ' to learn more about interactive tables.';\n",
              "          element.innerHTML = '';\n",
              "          dataTable['output_type'] = 'display_data';\n",
              "          await google.colab.output.renderOutput(dataTable, element);\n",
              "          const docLink = document.createElement('div');\n",
              "          docLink.innerHTML = docLinkHtml;\n",
              "          element.appendChild(docLink);\n",
              "        }\n",
              "      </script>\n",
              "    </div>\n",
              "  </div>\n",
              "  "
            ]
          },
          "metadata": {},
          "execution_count": 143
        }
      ]
    },
    {
      "cell_type": "code",
      "source": [
        "#Checking the null values. \n",
        "df.isnull().sum()\n",
        "#8045 have paid the loan, 1533 have not paid the loan."
      ],
      "metadata": {
        "colab": {
          "base_uri": "https://localhost:8080/"
        },
        "id": "jpOdSY5-_Inb",
        "outputId": "38f15453-2ad3-4a1f-fb75-4b83f45dc4dd"
      },
      "execution_count": 144,
      "outputs": [
        {
          "output_type": "execute_result",
          "data": {
            "text/plain": [
              "credit.policy        0\n",
              "purpose              0\n",
              "int.rate             0\n",
              "installment          0\n",
              "log.annual.inc       0\n",
              "dti                  0\n",
              "fico                 0\n",
              "days.with.cr.line    0\n",
              "revol.bal            0\n",
              "revol.util           0\n",
              "inq.last.6mths       0\n",
              "delinq.2yrs          0\n",
              "pub.rec              0\n",
              "not.fully.paid       0\n",
              "dtype: int64"
            ]
          },
          "metadata": {},
          "execution_count": 144
        }
      ]
    },
    {
      "cell_type": "code",
      "source": [
        "df['not.fully.paid'].value_counts()"
      ],
      "metadata": {
        "colab": {
          "base_uri": "https://localhost:8080/"
        },
        "id": "rxpjsdBZ_a5s",
        "outputId": "b3c1599d-8334-4792-e167-0d81c02a424a"
      },
      "execution_count": 145,
      "outputs": [
        {
          "output_type": "execute_result",
          "data": {
            "text/plain": [
              "0    8045\n",
              "1    1533\n",
              "Name: not.fully.paid, dtype: int64"
            ]
          },
          "metadata": {},
          "execution_count": 145
        }
      ]
    },
    {
      "cell_type": "code",
      "source": [
        "#EDA\n",
        "df['not.fully.paid'].value_counts().plot()"
      ],
      "metadata": {
        "colab": {
          "base_uri": "https://localhost:8080/",
          "height": 282
        },
        "id": "AH6quzuW_02a",
        "outputId": "320f894b-e525-4e7c-ff40-032d9aa86ee4"
      },
      "execution_count": 146,
      "outputs": [
        {
          "output_type": "execute_result",
          "data": {
            "text/plain": [
              "<matplotlib.axes._subplots.AxesSubplot at 0x7f55ccd59310>"
            ]
          },
          "metadata": {},
          "execution_count": 146
        },
        {
          "output_type": "display_data",
          "data": {
            "text/plain": [
              "<Figure size 432x288 with 1 Axes>"
            ],
            "image/png": "[encoded data removed]"
          },
          "metadata": {
            "needs_background": "light"
          }
        }
      ]
    },
    {
      "cell_type": "code",
      "source": [
        "#SNS Plot.\n",
        "sns.countplot(df['not.fully.paid'])\n",
        "plt.show()"
      ],
      "metadata": {
        "colab": {
          "base_uri": "https://localhost:8080/",
          "height": 334
        },
        "id": "GoegN8hXATKY",
        "outputId": "5f2fd998-b87e-4438-df1f-06a1108a0336"
      },
      "execution_count": 147,
      "outputs": [
        {
          "output_type": "stream",
          "name": "stderr",
          "text": [
            "/usr/local/lib/python3.7/dist-packages/seaborn/_decorators.py:43: FutureWarning: Pass the following variable as a keyword arg: x. From version 0.12, the only valid positional argument will be `data`, and passing other arguments without an explicit keyword will result in an error or misinterpretation.\n",
            "  FutureWarning\n"
          ]
        },
        {
          "output_type": "display_data",
          "data": {
            "text/plain": [
              "<Figure size 432x288 with 1 Axes>"
            ],
            "image/png": "[encoded data removed]"
          },
          "metadata": {
            "needs_background": "light"
          }
        }
      ]
    },
    {
      "cell_type": "code",
      "source": [
        "#Purpose - how many have paid/not paid the loan.\n",
        "plt.figure(figsize=(11,7))\n",
        "sns.countplot(x='purpose',hue='not.fully.paid',data=df)"
      ],
      "metadata": {
        "colab": {
          "base_uri": "https://localhost:8080/",
          "height": 462
        },
        "id": "n0MwLpabAgMD",
        "outputId": "e4549425-8586-4cb5-b5b2-1d6f361c2240"
      },
      "execution_count": 148,
      "outputs": [
        {
          "output_type": "execute_result",
          "data": {
            "text/plain": [
              "<matplotlib.axes._subplots.AxesSubplot at 0x7f55ccac1110>"
            ]
          },
          "metadata": {},
          "execution_count": 148
        },
        {
          "output_type": "display_data",
          "data": {
            "text/plain": [
              "<Figure size 792x504 with 1 Axes>"
            ],
            "image/png": "[encoded data removed]"
          },
          "metadata": {
            "needs_background": "light"
          }
        }
      ]
    },
    {
      "cell_type": "code",
      "source": [
        "plt.figure(figsize=(11,7))\n",
        "sns.countplot(x=df['purpose'])\n",
        "plt.show()"
      ],
      "metadata": {
        "colab": {
          "base_uri": "https://localhost:8080/",
          "height": 443
        },
        "id": "H_QFRutPBekR",
        "outputId": "b67cfef1-413a-4953-92fe-ac33e5134fad"
      },
      "execution_count": 149,
      "outputs": [
        {
          "output_type": "display_data",
          "data": {
            "text/plain": [
              "<Figure size 792x504 with 1 Axes>"
            ],
            "image/png": "[encoded data removed]"
          },
          "metadata": {
            "needs_background": "light"
          }
        }
      ]
    },
    {
      "cell_type": "code",
      "source": [
        "df.columns\n",
        "sns.jointplot(x='fico',y='int.rate', data=df)\n",
        "#More height with histogram, shows where there is more density."
      ],
      "metadata": {
        "colab": {
          "base_uri": "https://localhost:8080/",
          "height": 458
        },
        "id": "GYHl4DhyCPOa",
        "outputId": "517741f5-116a-4c21-c3cc-bc2053221a06"
      },
      "execution_count": 150,
      "outputs": [
        {
          "output_type": "execute_result",
          "data": {
            "text/plain": [
              "<seaborn.axisgrid.JointGrid at 0x7f55cc9daa10>"
            ]
          },
          "metadata": {},
          "execution_count": 150
        },
        {
          "output_type": "display_data",
          "data": {
            "text/plain": [
              "<Figure size 432x432 with 3 Axes>"
            ],
            "image/png": "[encoded data removed]"
          },
          "metadata": {
            "needs_background": "light"
          }
        }
      ]
    },
    {
      "cell_type": "code",
      "source": [
        "#Handle imbalance dataset.\n",
        "not_fully_paid_0=df[df['not.fully.paid']==0]\n",
        "not_fully_paid_1=df[df['not.fully.paid']==1]\n",
        "#Now paid data is 0."
      ],
      "metadata": {
        "id": "w39L_SomCTdI"
      },
      "execution_count": 151,
      "outputs": []
    },
    {
      "cell_type": "code",
      "source": [
        "not_fully_paid_0"
      ],
      "metadata": {
        "colab": {
          "base_uri": "https://localhost:8080/",
          "height": 488
        },
        "id": "_gckOMRQDOTK",
        "outputId": "aef9c606-f093-4363-d840-d528ac6a8cc7"
      },
      "execution_count": 152,
      "outputs": [
        {
          "output_type": "execute_result",
          "data": {
            "text/plain": [
              "      credit.policy             purpose  int.rate  installment  \\\n",
              "0                 1  debt_consolidation    0.1189       829.10   \n",
              "1                 1         credit_card    0.1071       228.22   \n",
              "2                 1  debt_consolidation    0.1357       366.86   \n",
              "3                 1  debt_consolidation    0.1008       162.34   \n",
              "4                 1         credit_card    0.1426       102.92   \n",
              "...             ...                 ...       ...          ...   \n",
              "9561              0           all_other    0.0788       115.74   \n",
              "9562              0  debt_consolidation    0.1348       508.87   \n",
              "9564              0           all_other    0.1385       511.56   \n",
              "9567              0           all_other    0.1311       101.24   \n",
              "9568              0           all_other    0.1979        37.06   \n",
              "\n",
              "      log.annual.inc    dti  fico  days.with.cr.line  revol.bal  revol.util  \\\n",
              "0          11.350407  19.48   737        5639.958333      28854        52.1   \n",
              "1          11.082143  14.29   707        2760.000000      33623        76.7   \n",
              "2          10.373491  11.63   682        4710.000000       3511        25.6   \n",
              "3          11.350407   8.10   712        2699.958333      33667        73.2   \n",
              "4          11.299732  14.97   667        4066.000000       4740        39.5   \n",
              "...              ...    ...   ...                ...        ...         ...   \n",
              "9561       10.999095  10.17   722        4410.000000      11586        61.6   \n",
              "9562       10.933107  17.76   717        3870.041667       8760        28.2   \n",
              "9564       12.323856  12.33   687        6420.041667     385489        51.2   \n",
              "9567       10.968198   8.23   687        2790.041667       1514        13.8   \n",
              "9568       10.645425  22.17   667        5916.000000      28854        59.8   \n",
              "\n",
              "      inq.last.6mths  delinq.2yrs  pub.rec  not.fully.paid  \n",
              "0                  0            0        0               0  \n",
              "1                  0            0        0               0  \n",
              "2                  1            0        0               0  \n",
              "3                  1            0        0               0  \n",
              "4                  0            1        0               0  \n",
              "...              ...          ...      ...             ...  \n",
              "9561               4            0        0               0  \n",
              "9562               6            0        0               0  \n",
              "9564               4            0        0               0  \n",
              "9567               5            0        0               0  \n",
              "9568               6            0        1               0  \n",
              "\n",
              "[8045 rows x 14 columns]"
            ],
            "text/html": [
              "\n",
              "  <div id=\"df-925616f8-cf47-4d06-a67f-605f13ed4da3\">\n",
              "    <div class=\"colab-df-container\">\n",
              "      <div>\n",
              "<style scoped>\n",
              "    .dataframe tbody tr th:only-of-type {\n",
              "        vertical-align: middle;\n",
              "    }\n",
              "\n",
              "    .dataframe tbody tr th {\n",
              "        vertical-align: top;\n",
              "    }\n",
              "\n",
              "    .dataframe thead th {\n",
              "        text-align: right;\n",
              "    }\n",
              "</style>\n",
              "<table border=\"1\" class=\"dataframe\">\n",
              "  <thead>\n",
              "    <tr style=\"text-align: right;\">\n",
              "      <th></th>\n",
              "      <th>credit.policy</th>\n",
              "      <th>purpose</th>\n",
              "      <th>int.rate</th>\n",
              "      <th>installment</th>\n",
              "      <th>log.annual.inc</th>\n",
              "      <th>dti</th>\n",
              "      <th>fico</th>\n",
              "      <th>days.with.cr.line</th>\n",
              "      <th>revol.bal</th>\n",
              "      <th>revol.util</th>\n",
              "      <th>inq.last.6mths</th>\n",
              "      <th>delinq.2yrs</th>\n",
              "      <th>pub.rec</th>\n",
              "      <th>not.fully.paid</th>\n",
              "    </tr>\n",
              "  </thead>\n",
              "  <tbody>\n",
              "    <tr>\n",
              "      <th>0</th>\n",
              "      <td>1</td>\n",
              "      <td>debt_consolidation</td>\n",
              "      <td>0.1189</td>\n",
              "      <td>829.10</td>\n",
              "      <td>11.350407</td>\n",
              "      <td>19.48</td>\n",
              "      <td>737</td>\n",
              "      <td>5639.958333</td>\n",
              "      <td>28854</td>\n",
              "      <td>52.1</td>\n",
              "      <td>0</td>\n",
              "      <td>0</td>\n",
              "      <td>0</td>\n",
              "      <td>0</td>\n",
              "    </tr>\n",
              "    <tr>\n",
              "      <th>1</th>\n",
              "      <td>1</td>\n",
              "      <td>credit_card</td>\n",
              "      <td>0.1071</td>\n",
              "      <td>228.22</td>\n",
              "      <td>11.082143</td>\n",
              "      <td>14.29</td>\n",
              "      <td>707</td>\n",
              "      <td>2760.000000</td>\n",
              "      <td>33623</td>\n",
              "      <td>76.7</td>\n",
              "      <td>0</td>\n",
              "      <td>0</td>\n",
              "      <td>0</td>\n",
              "      <td>0</td>\n",
              "    </tr>\n",
              "    <tr>\n",
              "      <th>2</th>\n",
              "      <td>1</td>\n",
              "      <td>debt_consolidation</td>\n",
              "      <td>0.1357</td>\n",
              "      <td>366.86</td>\n",
              "      <td>10.373491</td>\n",
              "      <td>11.63</td>\n",
              "      <td>682</td>\n",
              "      <td>4710.000000</td>\n",
              "      <td>3511</td>\n",
              "      <td>25.6</td>\n",
              "      <td>1</td>\n",
              "      <td>0</td>\n",
              "      <td>0</td>\n",
              "      <td>0</td>\n",
              "    </tr>\n",
              "    <tr>\n",
              "      <th>3</th>\n",
              "      <td>1</td>\n",
              "      <td>debt_consolidation</td>\n",
              "      <td>0.1008</td>\n",
              "      <td>162.34</td>\n",
              "      <td>11.350407</td>\n",
              "      <td>8.10</td>\n",
              "      <td>712</td>\n",
              "      <td>2699.958333</td>\n",
              "      <td>33667</td>\n",
              "      <td>73.2</td>\n",
              "      <td>1</td>\n",
              "      <td>0</td>\n",
              "      <td>0</td>\n",
              "      <td>0</td>\n",
              "    </tr>\n",
              "    <tr>\n",
              "      <th>4</th>\n",
              "      <td>1</td>\n",
              "      <td>credit_card</td>\n",
              "      <td>0.1426</td>\n",
              "      <td>102.92</td>\n",
              "      <td>11.299732</td>\n",
              "      <td>14.97</td>\n",
              "      <td>667</td>\n",
              "      <td>4066.000000</td>\n",
              "      <td>4740</td>\n",
              "      <td>39.5</td>\n",
              "      <td>0</td>\n",
              "      <td>1</td>\n",
              "      <td>0</td>\n",
              "      <td>0</td>\n",
              "    </tr>\n",
              "    <tr>\n",
              "      <th>...</th>\n",
              "      <td>...</td>\n",
              "      <td>...</td>\n",
              "      <td>...</td>\n",
              "      <td>...</td>\n",
              "      <td>...</td>\n",
              "      <td>...</td>\n",
              "      <td>...</td>\n",
              "      <td>...</td>\n",
              "      <td>...</td>\n",
              "      <td>...</td>\n",
              "      <td>...</td>\n",
              "      <td>...</td>\n",
              "      <td>...</td>\n",
              "      <td>...</td>\n",
              "    </tr>\n",
              "    <tr>\n",
              "      <th>9561</th>\n",
              "      <td>0</td>\n",
              "      <td>all_other</td>\n",
              "      <td>0.0788</td>\n",
              "      <td>115.74</td>\n",
              "      <td>10.999095</td>\n",
              "      <td>10.17</td>\n",
              "      <td>722</td>\n",
              "      <td>4410.000000</td>\n",
              "      <td>11586</td>\n",
              "      <td>61.6</td>\n",
              "      <td>4</td>\n",
              "      <td>0</td>\n",
              "      <td>0</td>\n",
              "      <td>0</td>\n",
              "    </tr>\n",
              "    <tr>\n",
              "      <th>9562</th>\n",
              "      <td>0</td>\n",
              "      <td>debt_consolidation</td>\n",
              "      <td>0.1348</td>\n",
              "      <td>508.87</td>\n",
              "      <td>10.933107</td>\n",
              "      <td>17.76</td>\n",
              "      <td>717</td>\n",
              "      <td>3870.041667</td>\n",
              "      <td>8760</td>\n",
              "      <td>28.2</td>\n",
              "      <td>6</td>\n",
              "      <td>0</td>\n",
              "      <td>0</td>\n",
              "      <td>0</td>\n",
              "    </tr>\n",
              "    <tr>\n",
              "      <th>9564</th>\n",
              "      <td>0</td>\n",
              "      <td>all_other</td>\n",
              "      <td>0.1385</td>\n",
              "      <td>511.56</td>\n",
              "      <td>12.323856</td>\n",
              "      <td>12.33</td>\n",
              "      <td>687</td>\n",
              "      <td>6420.041667</td>\n",
              "      <td>385489</td>\n",
              "      <td>51.2</td>\n",
              "      <td>4</td>\n",
              "      <td>0</td>\n",
              "      <td>0</td>\n",
              "      <td>0</td>\n",
              "    </tr>\n",
              "    <tr>\n",
              "      <th>9567</th>\n",
              "      <td>0</td>\n",
              "      <td>all_other</td>\n",
              "      <td>0.1311</td>\n",
              "      <td>101.24</td>\n",
              "      <td>10.968198</td>\n",
              "      <td>8.23</td>\n",
              "      <td>687</td>\n",
              "      <td>2790.041667</td>\n",
              "      <td>1514</td>\n",
              "      <td>13.8</td>\n",
              "      <td>5</td>\n",
              "      <td>0</td>\n",
              "      <td>0</td>\n",
              "      <td>0</td>\n",
              "    </tr>\n",
              "    <tr>\n",
              "      <th>9568</th>\n",
              "      <td>0</td>\n",
              "      <td>all_other</td>\n",
              "      <td>0.1979</td>\n",
              "      <td>37.06</td>\n",
              "      <td>10.645425</td>\n",
              "      <td>22.17</td>\n",
              "      <td>667</td>\n",
              "      <td>5916.000000</td>\n",
              "      <td>28854</td>\n",
              "      <td>59.8</td>\n",
              "      <td>6</td>\n",
              "      <td>0</td>\n",
              "      <td>1</td>\n",
              "      <td>0</td>\n",
              "    </tr>\n",
              "  </tbody>\n",
              "</table>\n",
              "<p>8045 rows × 14 columns</p>\n",
              "</div>\n",
              "      <button class=\"colab-df-convert\" onclick=\"convertToInteractive('df-925616f8-cf47-4d06-a67f-605f13ed4da3')\"\n",
              "              title=\"Convert this dataframe to an interactive table.\"\n",
              "              style=\"display:none;\">\n",
              "        \n",
              "  <svg xmlns=\"http://www.w3.org/2000/svg\" height=\"24px\"viewBox=\"0 0 24 24\"\n",
              "       width=\"24px\">\n",
              "    <path d=\"M0 0h24v24H0V0z\" fill=\"none\"/>\n",
              "    <path d=\"M18.56 5.44l.94 2.06.94-2.06 2.06-.94-2.06-.94-.94-2.06-.94 2.06-2.06.94zm-11 1L8.5 8.5l.94-2.06 2.06-.94-2.06-.94L8.5 2.5l-.94 2.06-2.06.94zm10 10l.94 2.06.94-2.06 2.06-.94-2.06-.94-.94-2.06-.94 2.06-2.06.94z\"/><path d=\"M17.41 7.96l-1.37-1.37c-.4-.4-.92-.59-1.43-.59-.52 0-1.04.2-1.43.59L10.3 9.45l-7.72 7.72c-.78.78-.78 2.05 0 2.83L4 21.41c.39.39.9.59 1.41.59.51 0 1.02-.2 1.41-.59l7.78-7.78 2.81-2.81c.8-.78.8-2.07 0-2.86zM5.41 20L4 18.59l7.72-7.72 1.47 1.35L5.41 20z\"/>\n",
              "  </svg>\n",
              "      </button>\n",
              "      \n",
              "  <style>\n",
              "    .colab-df-container {\n",
              "      display:flex;\n",
              "      flex-wrap:wrap;\n",
              "      gap: 12px;\n",
              "    }\n",
              "\n",
              "    .colab-df-convert {\n",
              "      background-color: #E8F0FE;\n",
              "      border: none;\n",
              "      border-radius: 50%;\n",
              "      cursor: pointer;\n",
              "      display: none;\n",
              "      fill: #1967D2;\n",
              "      height: 32px;\n",
              "      padding: 0 0 0 0;\n",
              "      width: 32px;\n",
              "    }\n",
              "\n",
              "    .colab-df-convert:hover {\n",
              "      background-color: #E2EBFA;\n",
              "      box-shadow: 0px 1px 2px rgba(60, 64, 67, 0.3), 0px 1px 3px 1px rgba(60, 64, 67, 0.15);\n",
              "      fill: #174EA6;\n",
              "    }\n",
              "\n",
              "    [theme=dark] .colab-df-convert {\n",
              "      background-color: #3B4455;\n",
              "      fill: #D2E3FC;\n",
              "    }\n",
              "\n",
              "    [theme=dark] .colab-df-convert:hover {\n",
              "      background-color: #434B5C;\n",
              "      box-shadow: 0px 1px 3px 1px rgba(0, 0, 0, 0.15);\n",
              "      filter: drop-shadow(0px 1px 2px rgba(0, 0, 0, 0.3));\n",
              "      fill: #FFFFFF;\n",
              "    }\n",
              "  </style>\n",
              "\n",
              "      <script>\n",
              "        const buttonEl =\n",
              "          document.querySelector('#df-925616f8-cf47-4d06-a67f-605f13ed4da3 button.colab-df-convert');\n",
              "        buttonEl.style.display =\n",
              "          google.colab.kernel.accessAllowed ? 'block' : 'none';\n",
              "\n",
              "        async function convertToInteractive(key) {\n",
              "          const element = document.querySelector('#df-925616f8-cf47-4d06-a67f-605f13ed4da3');\n",
              "          const dataTable =\n",
              "            await google.colab.kernel.invokeFunction('convertToInteractive',\n",
              "                                                     [key], {});\n",
              "          if (!dataTable) return;\n",
              "\n",
              "          const docLinkHtml = 'Like what you see? Visit the ' +\n",
              "            '<a target=\"_blank\" href=https://colab.research.google.com/notebooks/data_table.ipynb>data table notebook</a>'\n",
              "            + ' to learn more about interactive tables.';\n",
              "          element.innerHTML = '';\n",
              "          dataTable['output_type'] = 'display_data';\n",
              "          await google.colab.output.renderOutput(dataTable, element);\n",
              "          const docLink = document.createElement('div');\n",
              "          docLink.innerHTML = docLinkHtml;\n",
              "          element.appendChild(docLink);\n",
              "        }\n",
              "      </script>\n",
              "    </div>\n",
              "  </div>\n",
              "  "
            ]
          },
          "metadata": {},
          "execution_count": 152
        }
      ]
    },
    {
      "cell_type": "code",
      "source": [
        "not_fully_paid_0.shape"
      ],
      "metadata": {
        "colab": {
          "base_uri": "https://localhost:8080/"
        },
        "id": "Ny8zLH9RDixI",
        "outputId": "7d0899bf-43bd-4fbf-a334-f2d49fbf9198"
      },
      "execution_count": 153,
      "outputs": [
        {
          "output_type": "execute_result",
          "data": {
            "text/plain": [
              "(8045, 14)"
            ]
          },
          "metadata": {},
          "execution_count": 153
        }
      ]
    },
    {
      "cell_type": "code",
      "source": [
        "not_fully_paid_1.shape"
      ],
      "metadata": {
        "colab": {
          "base_uri": "https://localhost:8080/"
        },
        "id": "kk-cyKj2DnLA",
        "outputId": "e767f499-1e3b-4c85-fbaf-cdda7ebc5411"
      },
      "execution_count": 154,
      "outputs": [
        {
          "output_type": "execute_result",
          "data": {
            "text/plain": [
              "(1533, 14)"
            ]
          },
          "metadata": {},
          "execution_count": 154
        }
      ]
    },
    {
      "cell_type": "code",
      "source": [
        "#Resampling - I need to increase the data set - we oversample here.\n",
        "df_minor_upsampled=resample(not_fully_paid_1,replace=True,n_samples=8045) #I state how many samples I'd like to have, and this is a boostrapping procedure.\n",
        "new_df=pd.concat([not_fully_paid_0,df_minor_upsampled])\n",
        "new_df=shuffle(new_df)"
      ],
      "metadata": {
        "id": "a64tAvRVDqzg"
      },
      "execution_count": 155,
      "outputs": []
    },
    {
      "cell_type": "code",
      "source": [
        "new_df['not.fully.paid'].value_counts()\n",
        "#The sample is now balanced\n",
        "#When quantity is inefficient, we increase the size of the smaller sample - we are passing the resample, which is a bootstrapping procedure."
      ],
      "metadata": {
        "colab": {
          "base_uri": "https://localhost:8080/"
        },
        "id": "TgssurOtEbGy",
        "outputId": "eaace47b-2feb-427e-ffa9-410374d026fd"
      },
      "execution_count": 156,
      "outputs": [
        {
          "output_type": "execute_result",
          "data": {
            "text/plain": [
              "0    8045\n",
              "1    8045\n",
              "Name: not.fully.paid, dtype: int64"
            ]
          },
          "metadata": {},
          "execution_count": 156
        }
      ]
    },
    {
      "cell_type": "code",
      "source": [
        "new_df.shape"
      ],
      "metadata": {
        "colab": {
          "base_uri": "https://localhost:8080/"
        },
        "id": "DVh1OSKnFDno",
        "outputId": "51d05e8e-4379-4bea-9198-96c265ed4c28"
      },
      "execution_count": 157,
      "outputs": [
        {
          "output_type": "execute_result",
          "data": {
            "text/plain": [
              "(16090, 14)"
            ]
          },
          "metadata": {},
          "execution_count": 157
        }
      ]
    },
    {
      "cell_type": "markdown",
      "source": [
        "#We must convert purpose column from object to integer."
      ],
      "metadata": {
        "id": "KEmwKdfMHyhf"
      }
    },
    {
      "cell_type": "code",
      "source": [
        "#Apply label encoding for categorical features.\n",
        "le=LabelEncoder()\n",
        "\n",
        "le=LabelEncoder()\n",
        "for i in new_df.columns:\n",
        "  if new_df[i].dtypes=='object':\n",
        "    new_df[i]=le.fit_transform(new_df[i])"
      ],
      "metadata": {
        "id": "tVSQgIg7FgIY"
      },
      "execution_count": 158,
      "outputs": []
    },
    {
      "cell_type": "code",
      "source": [
        "new_df.dtypes"
      ],
      "metadata": {
        "colab": {
          "base_uri": "https://localhost:8080/"
        },
        "id": "JUwAv3AHG59q",
        "outputId": "ce25107a-f366-4e22-cd1c-c2d8332a7d88"
      },
      "execution_count": 159,
      "outputs": [
        {
          "output_type": "execute_result",
          "data": {
            "text/plain": [
              "credit.policy          int64\n",
              "purpose                int64\n",
              "int.rate             float64\n",
              "installment          float64\n",
              "log.annual.inc       float64\n",
              "dti                  float64\n",
              "fico                   int64\n",
              "days.with.cr.line    float64\n",
              "revol.bal              int64\n",
              "revol.util           float64\n",
              "inq.last.6mths         int64\n",
              "delinq.2yrs            int64\n",
              "pub.rec                int64\n",
              "not.fully.paid         int64\n",
              "dtype: object"
            ]
          },
          "metadata": {},
          "execution_count": 159
        }
      ]
    },
    {
      "cell_type": "code",
      "source": [],
      "metadata": {
        "id": "TuErMHbvHaUR"
      },
      "execution_count": 159,
      "outputs": []
    },
    {
      "cell_type": "markdown",
      "source": [
        "Additional Feature Engineering\n",
        "-Check correlations between features and drop those that have a strong correlation\n",
        "-We need to be left with most relevant features"
      ],
      "metadata": {
        "id": "HmpcLw0UIDRA"
      }
    },
    {
      "cell_type": "code",
      "source": [
        " plt.figure(figsize=(11,7))\n",
        " sns.heatmap(new_df.corr(),annot=True)"
      ],
      "metadata": {
        "colab": {
          "base_uri": "https://localhost:8080/",
          "height": 521
        },
        "id": "gjW7gCliITFi",
        "outputId": "3d136ebc-f685-4417-9478-98fcbe14d590"
      },
      "execution_count": 160,
      "outputs": [
        {
          "output_type": "execute_result",
          "data": {
            "text/plain": [
              "<matplotlib.axes._subplots.AxesSubplot at 0x7f55cc7a3450>"
            ]
          },
          "metadata": {},
          "execution_count": 160
        },
        {
          "output_type": "display_data",
          "data": {
            "text/plain": [
              "<Figure size 792x504 with 2 Axes>"
            ],
            "image/png": "[encoded data removed]"
          },
          "metadata": {
            "needs_background": "light"
          }
        }
      ]
    },
    {
      "cell_type": "code",
      "source": [
        "new_df.corr()"
      ],
      "metadata": {
        "colab": {
          "base_uri": "https://localhost:8080/",
          "height": 552
        },
        "id": "U8ybcGSXIITn",
        "outputId": "7dd82f4e-cfc2-4e68-8f0c-203fbd040753"
      },
      "execution_count": 161,
      "outputs": [
        {
          "output_type": "execute_result",
          "data": {
            "text/plain": [
              "                   credit.policy   purpose  int.rate  installment  \\\n",
              "credit.policy           1.000000  0.009298 -0.284050     0.050360   \n",
              "purpose                 0.009298  1.000000  0.154268     0.200589   \n",
              "int.rate               -0.284050  0.154268  1.000000     0.272945   \n",
              "installment             0.050360  0.200589  0.272945     1.000000   \n",
              "log.annual.inc          0.018622  0.120771  0.084011     0.478380   \n",
              "dti                    -0.090941 -0.040691  0.202784     0.034451   \n",
              "fico                    0.371709  0.064890 -0.681757     0.105217   \n",
              "days.with.cr.line       0.104408  0.060331 -0.106948     0.181338   \n",
              "revol.bal              -0.190067  0.059600  0.079079     0.255760   \n",
              "revol.util             -0.087512 -0.074663  0.418494     0.052853   \n",
              "inq.last.6mths         -0.552938  0.050773  0.188577    -0.005407   \n",
              "delinq.2yrs            -0.057207  0.000818  0.141946    -0.001638   \n",
              "pub.rec                -0.057418  0.016968  0.109139    -0.023051   \n",
              "not.fully.paid         -0.193614  0.056745  0.213645     0.064603   \n",
              "\n",
              "                   log.annual.inc       dti      fico  days.with.cr.line  \\\n",
              "credit.policy            0.018622 -0.090941  0.371709           0.104408   \n",
              "purpose                  0.120771 -0.040691  0.064890           0.060331   \n",
              "int.rate                 0.084011  0.202784 -0.681757          -0.106948   \n",
              "installment              0.478380  0.034451  0.105217           0.181338   \n",
              "log.annual.inc           1.000000 -0.028260  0.108629           0.344521   \n",
              "dti                     -0.028260  1.000000 -0.216668           0.101110   \n",
              "fico                     0.108629 -0.216668  1.000000           0.261066   \n",
              "days.with.cr.line        0.344521  0.101110  0.261066           1.000000   \n",
              "revol.bal                0.401032  0.185306  0.010590           0.274803   \n",
              "revol.util               0.076334  0.331495 -0.502349           0.012457   \n",
              "inq.last.6mths           0.029833  0.033287 -0.198884          -0.037876   \n",
              "delinq.2yrs              0.014448 -0.034062 -0.206945           0.069652   \n",
              "pub.rec                  0.027285  0.022856 -0.157309           0.067539   \n",
              "not.fully.paid          -0.053237  0.047004 -0.209385          -0.050720   \n",
              "\n",
              "                   revol.bal  revol.util  inq.last.6mths  delinq.2yrs  \\\n",
              "credit.policy      -0.190067   -0.087512       -0.552938    -0.057207   \n",
              "purpose             0.059600   -0.074663        0.050773     0.000818   \n",
              "int.rate            0.079079    0.418494        0.188577     0.141946   \n",
              "installment         0.255760    0.052853       -0.005407    -0.001638   \n",
              "log.annual.inc      0.401032    0.076334        0.029833     0.014448   \n",
              "dti                 0.185306    0.331495        0.033287    -0.034062   \n",
              "fico                0.010590   -0.502349       -0.198884    -0.206945   \n",
              "days.with.cr.line   0.274803    0.012457       -0.037876     0.069652   \n",
              "revol.bal           1.000000    0.177729        0.019971    -0.031130   \n",
              "revol.util          0.177729    1.000000       -0.020404    -0.048700   \n",
              "inq.last.6mths      0.019971   -0.020404        1.000000    -0.000886   \n",
              "delinq.2yrs        -0.031130   -0.048700       -0.000886     1.000000   \n",
              "pub.rec            -0.034067    0.074206        0.092850    -0.013219   \n",
              "not.fully.paid      0.057386    0.101959        0.171130     0.010704   \n",
              "\n",
              "                    pub.rec  not.fully.paid  \n",
              "credit.policy     -0.057418       -0.193614  \n",
              "purpose            0.016968        0.056745  \n",
              "int.rate           0.109139        0.213645  \n",
              "installment       -0.023051        0.064603  \n",
              "log.annual.inc     0.027285       -0.053237  \n",
              "dti                0.022856        0.047004  \n",
              "fico              -0.157309       -0.209385  \n",
              "days.with.cr.line  0.067539       -0.050720  \n",
              "revol.bal         -0.034067        0.057386  \n",
              "revol.util         0.074206        0.101959  \n",
              "inq.last.6mths     0.092850        0.171130  \n",
              "delinq.2yrs       -0.013219        0.010704  \n",
              "pub.rec            1.000000        0.066036  \n",
              "not.fully.paid     0.066036        1.000000  "
            ],
            "text/html": [
              "\n",
              "  <div id=\"df-b7f5a3dd-6d40-4de4-980b-042bef45f148\">\n",
              "    <div class=\"colab-df-container\">\n",
              "      <div>\n",
              "<style scoped>\n",
              "    .dataframe tbody tr th:only-of-type {\n",
              "        vertical-align: middle;\n",
              "    }\n",
              "\n",
              "    .dataframe tbody tr th {\n",
              "        vertical-align: top;\n",
              "    }\n",
              "\n",
              "    .dataframe thead th {\n",
              "        text-align: right;\n",
              "    }\n",
              "</style>\n",
              "<table border=\"1\" class=\"dataframe\">\n",
              "  <thead>\n",
              "    <tr style=\"text-align: right;\">\n",
              "      <th></th>\n",
              "      <th>credit.policy</th>\n",
              "      <th>purpose</th>\n",
              "      <th>int.rate</th>\n",
              "      <th>installment</th>\n",
              "      <th>log.annual.inc</th>\n",
              "      <th>dti</th>\n",
              "      <th>fico</th>\n",
              "      <th>days.with.cr.line</th>\n",
              "      <th>revol.bal</th>\n",
              "      <th>revol.util</th>\n",
              "      <th>inq.last.6mths</th>\n",
              "      <th>delinq.2yrs</th>\n",
              "      <th>pub.rec</th>\n",
              "      <th>not.fully.paid</th>\n",
              "    </tr>\n",
              "  </thead>\n",
              "  <tbody>\n",
              "    <tr>\n",
              "      <th>credit.policy</th>\n",
              "      <td>1.000000</td>\n",
              "      <td>0.009298</td>\n",
              "      <td>-0.284050</td>\n",
              "      <td>0.050360</td>\n",
              "      <td>0.018622</td>\n",
              "      <td>-0.090941</td>\n",
              "      <td>0.371709</td>\n",
              "      <td>0.104408</td>\n",
              "      <td>-0.190067</td>\n",
              "      <td>-0.087512</td>\n",
              "      <td>-0.552938</td>\n",
              "      <td>-0.057207</td>\n",
              "      <td>-0.057418</td>\n",
              "      <td>-0.193614</td>\n",
              "    </tr>\n",
              "    <tr>\n",
              "      <th>purpose</th>\n",
              "      <td>0.009298</td>\n",
              "      <td>1.000000</td>\n",
              "      <td>0.154268</td>\n",
              "      <td>0.200589</td>\n",
              "      <td>0.120771</td>\n",
              "      <td>-0.040691</td>\n",
              "      <td>0.064890</td>\n",
              "      <td>0.060331</td>\n",
              "      <td>0.059600</td>\n",
              "      <td>-0.074663</td>\n",
              "      <td>0.050773</td>\n",
              "      <td>0.000818</td>\n",
              "      <td>0.016968</td>\n",
              "      <td>0.056745</td>\n",
              "    </tr>\n",
              "    <tr>\n",
              "      <th>int.rate</th>\n",
              "      <td>-0.284050</td>\n",
              "      <td>0.154268</td>\n",
              "      <td>1.000000</td>\n",
              "      <td>0.272945</td>\n",
              "      <td>0.084011</td>\n",
              "      <td>0.202784</td>\n",
              "      <td>-0.681757</td>\n",
              "      <td>-0.106948</td>\n",
              "      <td>0.079079</td>\n",
              "      <td>0.418494</td>\n",
              "      <td>0.188577</td>\n",
              "      <td>0.141946</td>\n",
              "      <td>0.109139</td>\n",
              "      <td>0.213645</td>\n",
              "    </tr>\n",
              "    <tr>\n",
              "      <th>installment</th>\n",
              "      <td>0.050360</td>\n",
              "      <td>0.200589</td>\n",
              "      <td>0.272945</td>\n",
              "      <td>1.000000</td>\n",
              "      <td>0.478380</td>\n",
              "      <td>0.034451</td>\n",
              "      <td>0.105217</td>\n",
              "      <td>0.181338</td>\n",
              "      <td>0.255760</td>\n",
              "      <td>0.052853</td>\n",
              "      <td>-0.005407</td>\n",
              "      <td>-0.001638</td>\n",
              "      <td>-0.023051</td>\n",
              "      <td>0.064603</td>\n",
              "    </tr>\n",
              "    <tr>\n",
              "      <th>log.annual.inc</th>\n",
              "      <td>0.018622</td>\n",
              "      <td>0.120771</td>\n",
              "      <td>0.084011</td>\n",
              "      <td>0.478380</td>\n",
              "      <td>1.000000</td>\n",
              "      <td>-0.028260</td>\n",
              "      <td>0.108629</td>\n",
              "      <td>0.344521</td>\n",
              "      <td>0.401032</td>\n",
              "      <td>0.076334</td>\n",
              "      <td>0.029833</td>\n",
              "      <td>0.014448</td>\n",
              "      <td>0.027285</td>\n",
              "      <td>-0.053237</td>\n",
              "    </tr>\n",
              "    <tr>\n",
              "      <th>dti</th>\n",
              "      <td>-0.090941</td>\n",
              "      <td>-0.040691</td>\n",
              "      <td>0.202784</td>\n",
              "      <td>0.034451</td>\n",
              "      <td>-0.028260</td>\n",
              "      <td>1.000000</td>\n",
              "      <td>-0.216668</td>\n",
              "      <td>0.101110</td>\n",
              "      <td>0.185306</td>\n",
              "      <td>0.331495</td>\n",
              "      <td>0.033287</td>\n",
              "      <td>-0.034062</td>\n",
              "      <td>0.022856</td>\n",
              "      <td>0.047004</td>\n",
              "    </tr>\n",
              "    <tr>\n",
              "      <th>fico</th>\n",
              "      <td>0.371709</td>\n",
              "      <td>0.064890</td>\n",
              "      <td>-0.681757</td>\n",
              "      <td>0.105217</td>\n",
              "      <td>0.108629</td>\n",
              "      <td>-0.216668</td>\n",
              "      <td>1.000000</td>\n",
              "      <td>0.261066</td>\n",
              "      <td>0.010590</td>\n",
              "      <td>-0.502349</td>\n",
              "      <td>-0.198884</td>\n",
              "      <td>-0.206945</td>\n",
              "      <td>-0.157309</td>\n",
              "      <td>-0.209385</td>\n",
              "    </tr>\n",
              "    <tr>\n",
              "      <th>days.with.cr.line</th>\n",
              "      <td>0.104408</td>\n",
              "      <td>0.060331</td>\n",
              "      <td>-0.106948</td>\n",
              "      <td>0.181338</td>\n",
              "      <td>0.344521</td>\n",
              "      <td>0.101110</td>\n",
              "      <td>0.261066</td>\n",
              "      <td>1.000000</td>\n",
              "      <td>0.274803</td>\n",
              "      <td>0.012457</td>\n",
              "      <td>-0.037876</td>\n",
              "      <td>0.069652</td>\n",
              "      <td>0.067539</td>\n",
              "      <td>-0.050720</td>\n",
              "    </tr>\n",
              "    <tr>\n",
              "      <th>revol.bal</th>\n",
              "      <td>-0.190067</td>\n",
              "      <td>0.059600</td>\n",
              "      <td>0.079079</td>\n",
              "      <td>0.255760</td>\n",
              "      <td>0.401032</td>\n",
              "      <td>0.185306</td>\n",
              "      <td>0.010590</td>\n",
              "      <td>0.274803</td>\n",
              "      <td>1.000000</td>\n",
              "      <td>0.177729</td>\n",
              "      <td>0.019971</td>\n",
              "      <td>-0.031130</td>\n",
              "      <td>-0.034067</td>\n",
              "      <td>0.057386</td>\n",
              "    </tr>\n",
              "    <tr>\n",
              "      <th>revol.util</th>\n",
              "      <td>-0.087512</td>\n",
              "      <td>-0.074663</td>\n",
              "      <td>0.418494</td>\n",
              "      <td>0.052853</td>\n",
              "      <td>0.076334</td>\n",
              "      <td>0.331495</td>\n",
              "      <td>-0.502349</td>\n",
              "      <td>0.012457</td>\n",
              "      <td>0.177729</td>\n",
              "      <td>1.000000</td>\n",
              "      <td>-0.020404</td>\n",
              "      <td>-0.048700</td>\n",
              "      <td>0.074206</td>\n",
              "      <td>0.101959</td>\n",
              "    </tr>\n",
              "    <tr>\n",
              "      <th>inq.last.6mths</th>\n",
              "      <td>-0.552938</td>\n",
              "      <td>0.050773</td>\n",
              "      <td>0.188577</td>\n",
              "      <td>-0.005407</td>\n",
              "      <td>0.029833</td>\n",
              "      <td>0.033287</td>\n",
              "      <td>-0.198884</td>\n",
              "      <td>-0.037876</td>\n",
              "      <td>0.019971</td>\n",
              "      <td>-0.020404</td>\n",
              "      <td>1.000000</td>\n",
              "      <td>-0.000886</td>\n",
              "      <td>0.092850</td>\n",
              "      <td>0.171130</td>\n",
              "    </tr>\n",
              "    <tr>\n",
              "      <th>delinq.2yrs</th>\n",
              "      <td>-0.057207</td>\n",
              "      <td>0.000818</td>\n",
              "      <td>0.141946</td>\n",
              "      <td>-0.001638</td>\n",
              "      <td>0.014448</td>\n",
              "      <td>-0.034062</td>\n",
              "      <td>-0.206945</td>\n",
              "      <td>0.069652</td>\n",
              "      <td>-0.031130</td>\n",
              "      <td>-0.048700</td>\n",
              "      <td>-0.000886</td>\n",
              "      <td>1.000000</td>\n",
              "      <td>-0.013219</td>\n",
              "      <td>0.010704</td>\n",
              "    </tr>\n",
              "    <tr>\n",
              "      <th>pub.rec</th>\n",
              "      <td>-0.057418</td>\n",
              "      <td>0.016968</td>\n",
              "      <td>0.109139</td>\n",
              "      <td>-0.023051</td>\n",
              "      <td>0.027285</td>\n",
              "      <td>0.022856</td>\n",
              "      <td>-0.157309</td>\n",
              "      <td>0.067539</td>\n",
              "      <td>-0.034067</td>\n",
              "      <td>0.074206</td>\n",
              "      <td>0.092850</td>\n",
              "      <td>-0.013219</td>\n",
              "      <td>1.000000</td>\n",
              "      <td>0.066036</td>\n",
              "    </tr>\n",
              "    <tr>\n",
              "      <th>not.fully.paid</th>\n",
              "      <td>-0.193614</td>\n",
              "      <td>0.056745</td>\n",
              "      <td>0.213645</td>\n",
              "      <td>0.064603</td>\n",
              "      <td>-0.053237</td>\n",
              "      <td>0.047004</td>\n",
              "      <td>-0.209385</td>\n",
              "      <td>-0.050720</td>\n",
              "      <td>0.057386</td>\n",
              "      <td>0.101959</td>\n",
              "      <td>0.171130</td>\n",
              "      <td>0.010704</td>\n",
              "      <td>0.066036</td>\n",
              "      <td>1.000000</td>\n",
              "    </tr>\n",
              "  </tbody>\n",
              "</table>\n",
              "</div>\n",
              "      <button class=\"colab-df-convert\" onclick=\"convertToInteractive('df-b7f5a3dd-6d40-4de4-980b-042bef45f148')\"\n",
              "              title=\"Convert this dataframe to an interactive table.\"\n",
              "              style=\"display:none;\">\n",
              "        \n",
              "  <svg xmlns=\"http://www.w3.org/2000/svg\" height=\"24px\"viewBox=\"0 0 24 24\"\n",
              "       width=\"24px\">\n",
              "    <path d=\"M0 0h24v24H0V0z\" fill=\"none\"/>\n",
              "    <path d=\"M18.56 5.44l.94 2.06.94-2.06 2.06-.94-2.06-.94-.94-2.06-.94 2.06-2.06.94zm-11 1L8.5 8.5l.94-2.06 2.06-.94-2.06-.94L8.5 2.5l-.94 2.06-2.06.94zm10 10l.94 2.06.94-2.06 2.06-.94-2.06-.94-.94-2.06-.94 2.06-2.06.94z\"/><path d=\"M17.41 7.96l-1.37-1.37c-.4-.4-.92-.59-1.43-.59-.52 0-1.04.2-1.43.59L10.3 9.45l-7.72 7.72c-.78.78-.78 2.05 0 2.83L4 21.41c.39.39.9.59 1.41.59.51 0 1.02-.2 1.41-.59l7.78-7.78 2.81-2.81c.8-.78.8-2.07 0-2.86zM5.41 20L4 18.59l7.72-7.72 1.47 1.35L5.41 20z\"/>\n",
              "  </svg>\n",
              "      </button>\n",
              "      \n",
              "  <style>\n",
              "    .colab-df-container {\n",
              "      display:flex;\n",
              "      flex-wrap:wrap;\n",
              "      gap: 12px;\n",
              "    }\n",
              "\n",
              "    .colab-df-convert {\n",
              "      background-color: #E8F0FE;\n",
              "      border: none;\n",
              "      border-radius: 50%;\n",
              "      cursor: pointer;\n",
              "      display: none;\n",
              "      fill: #1967D2;\n",
              "      height: 32px;\n",
              "      padding: 0 0 0 0;\n",
              "      width: 32px;\n",
              "    }\n",
              "\n",
              "    .colab-df-convert:hover {\n",
              "      background-color: #E2EBFA;\n",
              "      box-shadow: 0px 1px 2px rgba(60, 64, 67, 0.3), 0px 1px 3px 1px rgba(60, 64, 67, 0.15);\n",
              "      fill: #174EA6;\n",
              "    }\n",
              "\n",
              "    [theme=dark] .colab-df-convert {\n",
              "      background-color: #3B4455;\n",
              "      fill: #D2E3FC;\n",
              "    }\n",
              "\n",
              "    [theme=dark] .colab-df-convert:hover {\n",
              "      background-color: #434B5C;\n",
              "      box-shadow: 0px 1px 3px 1px rgba(0, 0, 0, 0.15);\n",
              "      filter: drop-shadow(0px 1px 2px rgba(0, 0, 0, 0.3));\n",
              "      fill: #FFFFFF;\n",
              "    }\n",
              "  </style>\n",
              "\n",
              "      <script>\n",
              "        const buttonEl =\n",
              "          document.querySelector('#df-b7f5a3dd-6d40-4de4-980b-042bef45f148 button.colab-df-convert');\n",
              "        buttonEl.style.display =\n",
              "          google.colab.kernel.accessAllowed ? 'block' : 'none';\n",
              "\n",
              "        async function convertToInteractive(key) {\n",
              "          const element = document.querySelector('#df-b7f5a3dd-6d40-4de4-980b-042bef45f148');\n",
              "          const dataTable =\n",
              "            await google.colab.kernel.invokeFunction('convertToInteractive',\n",
              "                                                     [key], {});\n",
              "          if (!dataTable) return;\n",
              "\n",
              "          const docLinkHtml = 'Like what you see? Visit the ' +\n",
              "            '<a target=\"_blank\" href=https://colab.research.google.com/notebooks/data_table.ipynb>data table notebook</a>'\n",
              "            + ' to learn more about interactive tables.';\n",
              "          element.innerHTML = '';\n",
              "          dataTable['output_type'] = 'display_data';\n",
              "          await google.colab.output.renderOutput(dataTable, element);\n",
              "          const docLink = document.createElement('div');\n",
              "          docLink.innerHTML = docLinkHtml;\n",
              "          element.appendChild(docLink);\n",
              "        }\n",
              "      </script>\n",
              "    </div>\n",
              "  </div>\n",
              "  "
            ]
          },
          "metadata": {},
          "execution_count": 161
        }
      ]
    },
    {
      "cell_type": "code",
      "source": [
        "#I need to only see correlations with the output column(not.fully.paid), though, in descending order.\n",
        "new_df.corr().abs()['not.fully.paid'].sort_values(ascending=False)"
      ],
      "metadata": {
        "colab": {
          "base_uri": "https://localhost:8080/"
        },
        "id": "ElhDPK7iIKmy",
        "outputId": "9f86451e-a329-4d61-f8de-cbc9c27a6d24"
      },
      "execution_count": 162,
      "outputs": [
        {
          "output_type": "execute_result",
          "data": {
            "text/plain": [
              "not.fully.paid       1.000000\n",
              "int.rate             0.213645\n",
              "fico                 0.209385\n",
              "credit.policy        0.193614\n",
              "inq.last.6mths       0.171130\n",
              "revol.util           0.101959\n",
              "pub.rec              0.066036\n",
              "installment          0.064603\n",
              "revol.bal            0.057386\n",
              "purpose              0.056745\n",
              "log.annual.inc       0.053237\n",
              "days.with.cr.line    0.050720\n",
              "dti                  0.047004\n",
              "delinq.2yrs          0.010704\n",
              "Name: not.fully.paid, dtype: float64"
            ]
          },
          "metadata": {},
          "execution_count": 162
        }
      ]
    },
    {
      "cell_type": "code",
      "source": [
        "X=new_df[['int.rate','fico','credit.policy','inq.last.6mths','revol.util','installment','purpose','pub.rec','dti']]\n",
        "\n",
        "y=new_df[['not.fully.paid']]"
      ],
      "metadata": {
        "id": "ybs66w4RI2On"
      },
      "execution_count": 163,
      "outputs": []
    },
    {
      "cell_type": "code",
      "source": [
        "X.shape"
      ],
      "metadata": {
        "colab": {
          "base_uri": "https://localhost:8080/"
        },
        "id": "kEmVolcLKKXv",
        "outputId": "799bf02b-6320-46bc-a506-1a14b84b5ea3"
      },
      "execution_count": 164,
      "outputs": [
        {
          "output_type": "execute_result",
          "data": {
            "text/plain": [
              "(16090, 9)"
            ]
          },
          "metadata": {},
          "execution_count": 164
        }
      ]
    },
    {
      "cell_type": "code",
      "source": [
        "y.shape"
      ],
      "metadata": {
        "colab": {
          "base_uri": "https://localhost:8080/"
        },
        "id": "1thaGAFxLGDS",
        "outputId": "43bb84b5-187d-4e52-ae27-4d4fa83d8d66"
      },
      "execution_count": 165,
      "outputs": [
        {
          "output_type": "execute_result",
          "data": {
            "text/plain": [
              "(16090, 1)"
            ]
          },
          "metadata": {},
          "execution_count": 165
        }
      ]
    },
    {
      "cell_type": "code",
      "source": [
        "#Create treaining set and test set.\n",
        "X_train,X_test,y_train,y_test=train_test_split(X, y, test_size=0.2,random_state=42)\n",
        "\n",
        "#Apply Standard Scaling to standardize data.\n",
        "#Fit_transform trains the training set to learn the transform, the test will understand it.\n",
        "sc=StandardScaler()\n",
        "X_train=sc.fit_transform(X_train)\n",
        "X_test=sc.transform(X_test)"
      ],
      "metadata": {
        "id": "ruisbvpnLHRx"
      },
      "execution_count": 166,
      "outputs": []
    },
    {
      "cell_type": "code",
      "source": [
        "X_test"
      ],
      "metadata": {
        "colab": {
          "base_uri": "https://localhost:8080/"
        },
        "id": "Y7N8fhHUMOpg",
        "outputId": "877fa6f2-747e-431f-a6ff-8f90933cf048"
      },
      "execution_count": 167,
      "outputs": [
        {
          "output_type": "execute_result",
          "data": {
            "text/plain": [
              "array([[ 0.78576429, -1.04638743,  0.58273277, ..., -0.57913375,\n",
              "        -0.26688499,  0.76174191],\n",
              "       [ 0.30956247, -0.6400103 ,  0.58273277, ...,  0.56746467,\n",
              "        -0.26688499,  0.40394373],\n",
              "       [ 0.19332423, -0.50455126,  0.58273277, ..., -0.00583454,\n",
              "        -0.26688499,  0.37941724],\n",
              "       ...,\n",
              "       [-1.24653009,  0.85003917,  0.58273277, ...,  1.71406309,\n",
              "        -0.26688499, -0.00290744],\n",
              "       [ 0.33955943, -1.31730552, -1.71605246, ..., -0.00583454,\n",
              "        -0.26688499, -0.09957066],\n",
              "       [ 0.34705868, -0.36909222,  0.58273277, ..., -0.00583454,\n",
              "        -0.26688499,  0.08798484]])"
            ]
          },
          "metadata": {},
          "execution_count": 167
        }
      ]
    },
    {
      "cell_type": "code",
      "source": [
        "X_train"
      ],
      "metadata": {
        "colab": {
          "base_uri": "https://localhost:8080/"
        },
        "id": "8HZ1l-VlMPr3",
        "outputId": "d2e04704-6ab6-48cc-a686-325ec2471fb0"
      },
      "execution_count": 168,
      "outputs": [
        {
          "output_type": "execute_result",
          "data": {
            "text/plain": [
              "array([[-0.04290187, -0.23363317,  0.58273277, ..., -0.00583454,\n",
              "        -0.26688499,  1.21043238],\n",
              "       [ 0.45204805,  0.03728491,  0.58273277, ..., -1.15243296,\n",
              "        -0.26688499, -1.40813096],\n",
              "       [-0.30537531,  2.34008864,  0.58273277, ..., -0.57913375,\n",
              "        -0.26688499, -0.8555636 ],\n",
              "       ...,\n",
              "       [-0.41411431, -0.6400103 , -1.71605246, ..., -1.15243296,\n",
              "        -0.26688499, -0.95366955],\n",
              "       [ 0.57578553, -1.04638743, -1.71605246, ..., -0.00583454,\n",
              "        -0.26688499,  0.87860342],\n",
              "       [-1.78647547,  1.2564163 ,  0.58273277, ..., -0.57913375,\n",
              "        -0.26688499,  0.18031986]])"
            ]
          },
          "metadata": {},
          "execution_count": 168
        }
      ]
    },
    {
      "cell_type": "markdown",
      "source": [
        "Apply Model Building - ANN"
      ],
      "metadata": {
        "id": "XeBHU1lyM4PX"
      }
    },
    {
      "cell_type": "code",
      "source": [
        "#The shape of the input is 9 columns, the NN will receive 9 inputs\n",
        "model=Sequential()\n",
        "model.add(Dense(19,activation='relu',input_shape=[9]))\n",
        "model.add(Dropout(0.3))\n",
        "model.add(Dense(10,activation='relu'))\n",
        "model.add(Dropout(0.3))\n",
        "#output layer\n",
        "model.add(Dense(1,activation='sigmoid'))"
      ],
      "metadata": {
        "id": "DQAJAW0_MzEO"
      },
      "execution_count": 169,
      "outputs": []
    },
    {
      "cell_type": "code",
      "source": [
        "#Compile the model \n",
        "model.compile(loss='binary_crossentropy', optimizer='adam',metrics=['accuracy'])"
      ],
      "metadata": {
        "id": "nYxY1bRzN7wI"
      },
      "execution_count": 170,
      "outputs": []
    },
    {
      "cell_type": "code",
      "source": [
        "model.summary()"
      ],
      "metadata": {
        "colab": {
          "base_uri": "https://localhost:8080/"
        },
        "id": "4xtezeSzPJ_v",
        "outputId": "4ff16c31-363a-49dc-d51f-aa932c71c317"
      },
      "execution_count": 171,
      "outputs": [
        {
          "output_type": "stream",
          "name": "stdout",
          "text": [
            "Model: \"sequential_1\"\n",
            "_________________________________________________________________\n",
            " Layer (type)                Output Shape              Param #   \n",
            "=================================================================\n",
            " dense_1 (Dense)             (None, 19)                190       \n",
            "                                                                 \n",
            " dropout (Dropout)           (None, 19)                0         \n",
            "                                                                 \n",
            " dense_2 (Dense)             (None, 10)                200       \n",
            "                                                                 \n",
            " dropout_1 (Dropout)         (None, 10)                0         \n",
            "                                                                 \n",
            " dense_3 (Dense)             (None, 1)                 11        \n",
            "                                                                 \n",
            "=================================================================\n",
            "Total params: 401\n",
            "Trainable params: 401\n",
            "Non-trainable params: 0\n",
            "_________________________________________________________________\n"
          ]
        }
      ]
    },
    {
      "cell_type": "code",
      "source": [
        "#Early stopping - This is meant to stop model with overfitting or if validation losses increase, you can stop running the model.\n",
        "#Stops model if it doesn't improve.\n",
        "early_stop=EarlyStopping(monitor='val_loss',\n",
        "                         min_delta=0.01,\n",
        "                         mode='min',\n",
        "                         verbose=1,patience=10)\n",
        "\n",
        "model.fit(X_train,y_train,\n",
        "          epochs=50,\n",
        "          batch_size=256,\n",
        "          validation_data=(X_test,y_test))\n",
        "callbacks=[early_stop]"
      ],
      "metadata": {
        "colab": {
          "base_uri": "https://localhost:8080/"
        },
        "id": "pkI0kCzFPLlX",
        "outputId": "0316fa79-3fd5-444a-d60b-a21eee07020c"
      },
      "execution_count": 172,
      "outputs": [
        {
          "output_type": "stream",
          "name": "stdout",
          "text": [
            "Epoch 1/50\n",
            "51/51 [==============================] - 1s 6ms/step - loss: 0.7028 - accuracy: 0.5189 - val_loss: 0.6732 - val_accuracy: 0.5892\n",
            "Epoch 2/50\n",
            "51/51 [==============================] - 0s 3ms/step - loss: 0.6840 - accuracy: 0.5583 - val_loss: 0.6632 - val_accuracy: 0.6013\n",
            "Epoch 3/50\n",
            "51/51 [==============================] - 0s 3ms/step - loss: 0.6769 - accuracy: 0.5769 - val_loss: 0.6575 - val_accuracy: 0.6116\n",
            "Epoch 4/50\n",
            "51/51 [==============================] - 0s 3ms/step - loss: 0.6745 - accuracy: 0.5800 - val_loss: 0.6548 - val_accuracy: 0.6193\n",
            "Epoch 5/50\n",
            "51/51 [==============================] - 0s 3ms/step - loss: 0.6695 - accuracy: 0.5924 - val_loss: 0.6528 - val_accuracy: 0.6206\n",
            "Epoch 6/50\n",
            "51/51 [==============================] - 0s 3ms/step - loss: 0.6673 - accuracy: 0.5956 - val_loss: 0.6508 - val_accuracy: 0.6144\n",
            "Epoch 7/50\n",
            "51/51 [==============================] - 0s 3ms/step - loss: 0.6662 - accuracy: 0.5952 - val_loss: 0.6495 - val_accuracy: 0.6144\n",
            "Epoch 8/50\n",
            "51/51 [==============================] - 0s 3ms/step - loss: 0.6637 - accuracy: 0.5997 - val_loss: 0.6483 - val_accuracy: 0.6147\n",
            "Epoch 9/50\n",
            "51/51 [==============================] - 0s 3ms/step - loss: 0.6616 - accuracy: 0.5980 - val_loss: 0.6468 - val_accuracy: 0.6156\n",
            "Epoch 10/50\n",
            "51/51 [==============================] - 0s 3ms/step - loss: 0.6615 - accuracy: 0.6001 - val_loss: 0.6464 - val_accuracy: 0.6156\n",
            "Epoch 11/50\n",
            "51/51 [==============================] - 0s 3ms/step - loss: 0.6617 - accuracy: 0.5966 - val_loss: 0.6460 - val_accuracy: 0.6193\n",
            "Epoch 12/50\n",
            "51/51 [==============================] - 0s 3ms/step - loss: 0.6619 - accuracy: 0.5977 - val_loss: 0.6465 - val_accuracy: 0.6162\n",
            "Epoch 13/50\n",
            "51/51 [==============================] - 0s 3ms/step - loss: 0.6596 - accuracy: 0.6072 - val_loss: 0.6454 - val_accuracy: 0.6184\n",
            "Epoch 14/50\n",
            "51/51 [==============================] - 0s 3ms/step - loss: 0.6622 - accuracy: 0.5964 - val_loss: 0.6459 - val_accuracy: 0.6181\n",
            "Epoch 15/50\n",
            "51/51 [==============================] - 0s 3ms/step - loss: 0.6585 - accuracy: 0.6014 - val_loss: 0.6458 - val_accuracy: 0.6200\n",
            "Epoch 16/50\n",
            "51/51 [==============================] - 0s 3ms/step - loss: 0.6573 - accuracy: 0.6004 - val_loss: 0.6449 - val_accuracy: 0.6234\n",
            "Epoch 17/50\n",
            "51/51 [==============================] - 0s 3ms/step - loss: 0.6585 - accuracy: 0.6040 - val_loss: 0.6450 - val_accuracy: 0.6212\n",
            "Epoch 18/50\n",
            "51/51 [==============================] - 0s 3ms/step - loss: 0.6578 - accuracy: 0.6054 - val_loss: 0.6448 - val_accuracy: 0.6231\n",
            "Epoch 19/50\n",
            "51/51 [==============================] - 0s 3ms/step - loss: 0.6567 - accuracy: 0.6074 - val_loss: 0.6445 - val_accuracy: 0.6212\n",
            "Epoch 20/50\n",
            "51/51 [==============================] - 0s 3ms/step - loss: 0.6581 - accuracy: 0.6055 - val_loss: 0.6455 - val_accuracy: 0.6181\n",
            "Epoch 21/50\n",
            "51/51 [==============================] - 0s 3ms/step - loss: 0.6565 - accuracy: 0.6057 - val_loss: 0.6442 - val_accuracy: 0.6175\n",
            "Epoch 22/50\n",
            "51/51 [==============================] - 0s 3ms/step - loss: 0.6571 - accuracy: 0.6099 - val_loss: 0.6442 - val_accuracy: 0.6206\n",
            "Epoch 23/50\n",
            "51/51 [==============================] - 0s 3ms/step - loss: 0.6593 - accuracy: 0.6043 - val_loss: 0.6452 - val_accuracy: 0.6190\n",
            "Epoch 24/50\n",
            "51/51 [==============================] - 0s 3ms/step - loss: 0.6562 - accuracy: 0.6080 - val_loss: 0.6445 - val_accuracy: 0.6231\n",
            "Epoch 25/50\n",
            "51/51 [==============================] - 0s 3ms/step - loss: 0.6555 - accuracy: 0.6142 - val_loss: 0.6433 - val_accuracy: 0.6234\n",
            "Epoch 26/50\n",
            "51/51 [==============================] - 0s 3ms/step - loss: 0.6559 - accuracy: 0.6041 - val_loss: 0.6432 - val_accuracy: 0.6262\n",
            "Epoch 27/50\n",
            "51/51 [==============================] - 0s 3ms/step - loss: 0.6568 - accuracy: 0.6102 - val_loss: 0.6435 - val_accuracy: 0.6240\n",
            "Epoch 28/50\n",
            "51/51 [==============================] - 0s 3ms/step - loss: 0.6562 - accuracy: 0.6079 - val_loss: 0.6431 - val_accuracy: 0.6234\n",
            "Epoch 29/50\n",
            "51/51 [==============================] - 0s 3ms/step - loss: 0.6538 - accuracy: 0.6110 - val_loss: 0.6427 - val_accuracy: 0.6218\n",
            "Epoch 30/50\n",
            "51/51 [==============================] - 0s 3ms/step - loss: 0.6537 - accuracy: 0.6062 - val_loss: 0.6427 - val_accuracy: 0.6255\n",
            "Epoch 31/50\n",
            "51/51 [==============================] - 0s 3ms/step - loss: 0.6549 - accuracy: 0.6085 - val_loss: 0.6428 - val_accuracy: 0.6231\n",
            "Epoch 32/50\n",
            "51/51 [==============================] - 0s 3ms/step - loss: 0.6546 - accuracy: 0.6087 - val_loss: 0.6424 - val_accuracy: 0.6234\n",
            "Epoch 33/50\n",
            "51/51 [==============================] - 0s 4ms/step - loss: 0.6546 - accuracy: 0.6070 - val_loss: 0.6423 - val_accuracy: 0.6265\n",
            "Epoch 34/50\n",
            "51/51 [==============================] - 0s 3ms/step - loss: 0.6539 - accuracy: 0.6065 - val_loss: 0.6420 - val_accuracy: 0.6255\n",
            "Epoch 35/50\n",
            "51/51 [==============================] - 0s 3ms/step - loss: 0.6546 - accuracy: 0.6060 - val_loss: 0.6419 - val_accuracy: 0.6259\n",
            "Epoch 36/50\n",
            "51/51 [==============================] - 0s 3ms/step - loss: 0.6531 - accuracy: 0.6095 - val_loss: 0.6420 - val_accuracy: 0.6271\n",
            "Epoch 37/50\n",
            "51/51 [==============================] - 0s 3ms/step - loss: 0.6520 - accuracy: 0.6123 - val_loss: 0.6409 - val_accuracy: 0.6259\n",
            "Epoch 38/50\n",
            "51/51 [==============================] - 0s 3ms/step - loss: 0.6563 - accuracy: 0.6081 - val_loss: 0.6426 - val_accuracy: 0.6237\n",
            "Epoch 39/50\n",
            "51/51 [==============================] - 0s 3ms/step - loss: 0.6561 - accuracy: 0.6102 - val_loss: 0.6424 - val_accuracy: 0.6218\n",
            "Epoch 40/50\n",
            "51/51 [==============================] - 0s 3ms/step - loss: 0.6542 - accuracy: 0.6114 - val_loss: 0.6416 - val_accuracy: 0.6249\n",
            "Epoch 41/50\n",
            "51/51 [==============================] - 0s 3ms/step - loss: 0.6543 - accuracy: 0.6033 - val_loss: 0.6411 - val_accuracy: 0.6262\n",
            "Epoch 42/50\n",
            "51/51 [==============================] - 0s 3ms/step - loss: 0.6536 - accuracy: 0.6116 - val_loss: 0.6406 - val_accuracy: 0.6249\n",
            "Epoch 43/50\n",
            "51/51 [==============================] - 0s 3ms/step - loss: 0.6530 - accuracy: 0.6154 - val_loss: 0.6407 - val_accuracy: 0.6218\n",
            "Epoch 44/50\n",
            "51/51 [==============================] - 0s 3ms/step - loss: 0.6526 - accuracy: 0.6144 - val_loss: 0.6411 - val_accuracy: 0.6240\n",
            "Epoch 45/50\n",
            "51/51 [==============================] - 0s 3ms/step - loss: 0.6521 - accuracy: 0.6106 - val_loss: 0.6405 - val_accuracy: 0.6218\n",
            "Epoch 46/50\n",
            "51/51 [==============================] - 0s 3ms/step - loss: 0.6521 - accuracy: 0.6106 - val_loss: 0.6407 - val_accuracy: 0.6231\n",
            "Epoch 47/50\n",
            "51/51 [==============================] - 0s 3ms/step - loss: 0.6519 - accuracy: 0.6123 - val_loss: 0.6399 - val_accuracy: 0.6268\n",
            "Epoch 48/50\n",
            "51/51 [==============================] - 0s 3ms/step - loss: 0.6530 - accuracy: 0.6108 - val_loss: 0.6407 - val_accuracy: 0.6268\n",
            "Epoch 49/50\n",
            "51/51 [==============================] - 0s 3ms/step - loss: 0.6534 - accuracy: 0.6110 - val_loss: 0.6405 - val_accuracy: 0.6243\n",
            "Epoch 50/50\n",
            "51/51 [==============================] - 0s 3ms/step - loss: 0.6530 - accuracy: 0.6112 - val_loss: 0.6407 - val_accuracy: 0.6280\n"
          ]
        }
      ]
    },
    {
      "cell_type": "code",
      "source": [
        "model.summary()"
      ],
      "metadata": {
        "colab": {
          "base_uri": "https://localhost:8080/"
        },
        "id": "OIaONcqKPa4o",
        "outputId": "b92d4d85-3a3f-41b2-e929-b173810ca9ef"
      },
      "execution_count": 173,
      "outputs": [
        {
          "output_type": "stream",
          "name": "stdout",
          "text": [
            "Model: \"sequential_1\"\n",
            "_________________________________________________________________\n",
            " Layer (type)                Output Shape              Param #   \n",
            "=================================================================\n",
            " dense_1 (Dense)             (None, 19)                190       \n",
            "                                                                 \n",
            " dropout (Dropout)           (None, 19)                0         \n",
            "                                                                 \n",
            " dense_2 (Dense)             (None, 10)                200       \n",
            "                                                                 \n",
            " dropout_1 (Dropout)         (None, 10)                0         \n",
            "                                                                 \n",
            " dense_3 (Dense)             (None, 1)                 11        \n",
            "                                                                 \n",
            "=================================================================\n",
            "Total params: 401\n",
            "Trainable params: 401\n",
            "Non-trainable params: 0\n",
            "_________________________________________________________________\n"
          ]
        }
      ]
    },
    {
      "cell_type": "code",
      "source": [
        "predictions=(model.predict(X_test)>0.5).astype('int32')"
      ],
      "metadata": {
        "id": "hZ0Ol9ixP3P2"
      },
      "execution_count": 174,
      "outputs": []
    },
    {
      "cell_type": "code",
      "source": [
        "predictions"
      ],
      "metadata": {
        "colab": {
          "base_uri": "https://localhost:8080/"
        },
        "id": "kHalUZosUMZ4",
        "outputId": "d773dd60-b689-497b-c593-3d852dc20823"
      },
      "execution_count": 175,
      "outputs": [
        {
          "output_type": "execute_result",
          "data": {
            "text/plain": [
              "array([[0],\n",
              "       [0],\n",
              "       [0],\n",
              "       ...,\n",
              "       [0],\n",
              "       [1],\n",
              "       [0]], dtype=int32)"
            ]
          },
          "metadata": {},
          "execution_count": 175
        }
      ]
    },
    {
      "cell_type": "code",
      "source": [
        "accuracy_score(y_test,predictions)"
      ],
      "metadata": {
        "colab": {
          "base_uri": "https://localhost:8080/"
        },
        "id": "VRDlb8rjUO23",
        "outputId": "eb21120b-f7d7-4a95-f521-509ab783e64d"
      },
      "execution_count": 176,
      "outputs": [
        {
          "output_type": "execute_result",
          "data": {
            "text/plain": [
              "0.6280298321939093"
            ]
          },
          "metadata": {},
          "execution_count": 176
        }
      ]
    },
    {
      "cell_type": "code",
      "source": [
        "print(classification_report(y_test,predictions))"
      ],
      "metadata": {
        "colab": {
          "base_uri": "https://localhost:8080/"
        },
        "id": "Yb2c_aVEUprF",
        "outputId": "bc4a556a-f95c-426e-a4b8-ddd38d3bf40c"
      },
      "execution_count": 177,
      "outputs": [
        {
          "output_type": "stream",
          "name": "stdout",
          "text": [
            "              precision    recall  f1-score   support\n",
            "\n",
            "           0       0.62      0.66      0.64      1595\n",
            "           1       0.64      0.59      0.62      1623\n",
            "\n",
            "    accuracy                           0.63      3218\n",
            "   macro avg       0.63      0.63      0.63      3218\n",
            "weighted avg       0.63      0.63      0.63      3218\n",
            "\n"
          ]
        }
      ]
    },
    {
      "cell_type": "code",
      "source": [
        "model.save('model1.h5')"
      ],
      "metadata": {
        "id": "jki5wVOvVJuu"
      },
      "execution_count": 178,
      "outputs": []
    },
    {
      "cell_type": "code",
      "source": [
        "#Create model 2\n",
        "#Change to 3 hidden layers - 128 neurons, 62 neurons, 32 neurons, tanh, batch norm.\n"
      ],
      "metadata": {
        "id": "0MjkNw1KVSgG"
      },
      "execution_count": 179,
      "outputs": []
    },
    {
      "cell_type": "code",
      "source": [
        "model2=Sequential()\n",
        "\n",
        "#first hidden layer\n",
        "model.add(Dense(128,activation='relu',input_shape=[9]))\n",
        "model.add(BatchNormalization())\n",
        "model.add(Dropout(0.2))\n",
        "\n",
        "#second hidden layer\n",
        "model.add(Dense(64,activation='tanh'))\n",
        "model.add(BatchNormalization())\n",
        "model.add(Dropout(0.2))\n",
        "\n",
        "#third hidden layer\n",
        "model.add(Dense(32,activation='tanh'))\n",
        "model.add(BatchNormalization())\n",
        "model.add(Dropout(0.2))\n",
        "\n",
        "#output layer\n",
        "model.add(Dense(1,activation='sigmoid'))\n",
        "\n",
        "#Compile the model \n",
        "model.compile(loss='binary_crossentropy', optimizer=tensorflow.keras.optimizers.Adam (learning_rate=0.01),metrics=['accuracy'])"
      ],
      "metadata": {
        "id": "JqYaURPYeu78"
      },
      "execution_count": 180,
      "outputs": []
    },
    {
      "cell_type": "code",
      "source": [
        "#Train the model\n",
        "#Early stopping - This is meant to stop model with overfitting or if validation losses increase, you can stop running the model.\n",
        "#Stops model if it doesn't improve.\n",
        "early_stop=EarlyStopping(monitor='accuracy',\n",
        "                         min_delta=0.01,\n",
        "                         mode='min',\n",
        "                         verbose=1,patience=5)\n"
      ],
      "metadata": {
        "id": "x04hbeLDfzW1"
      },
      "execution_count": 181,
      "outputs": []
    },
    {
      "cell_type": "code",
      "source": [
        "model.fit(X_train,y_train,\n",
        "          epochs=100,\n",
        "          batch_size=256,\n",
        "          validation_data=(X_test,y_test))\n",
        "#callbacks=[early_stop]"
      ],
      "metadata": {
        "colab": {
          "base_uri": "https://localhost:8080/"
        },
        "outputId": "4a648e3b-cdab-4167-9a64-c064b0caff6d",
        "id": "lbEXUFdlhupG"
      },
      "execution_count": 182,
      "outputs": [
        {
          "output_type": "stream",
          "name": "stdout",
          "text": [
            "Epoch 1/100\n",
            "51/51 [==============================] - 2s 10ms/step - loss: 0.7221 - accuracy: 0.5680 - val_loss: 0.6763 - val_accuracy: 0.6016\n",
            "Epoch 2/100\n",
            "51/51 [==============================] - 0s 6ms/step - loss: 0.6721 - accuracy: 0.5911 - val_loss: 0.6761 - val_accuracy: 0.5963\n",
            "Epoch 3/100\n",
            "51/51 [==============================] - 0s 7ms/step - loss: 0.6633 - accuracy: 0.6014 - val_loss: 0.6802 - val_accuracy: 0.5740\n",
            "Epoch 4/100\n",
            "51/51 [==============================] - 0s 6ms/step - loss: 0.6597 - accuracy: 0.6040 - val_loss: 0.6714 - val_accuracy: 0.5988\n",
            "Epoch 5/100\n",
            "51/51 [==============================] - 0s 6ms/step - loss: 0.6553 - accuracy: 0.6052 - val_loss: 0.6766 - val_accuracy: 0.5920\n",
            "Epoch 6/100\n",
            "51/51 [==============================] - 0s 7ms/step - loss: 0.6516 - accuracy: 0.6151 - val_loss: 0.6743 - val_accuracy: 0.5724\n",
            "Epoch 7/100\n",
            "51/51 [==============================] - 0s 7ms/step - loss: 0.6539 - accuracy: 0.6145 - val_loss: 0.6643 - val_accuracy: 0.5904\n",
            "Epoch 8/100\n",
            "51/51 [==============================] - 0s 7ms/step - loss: 0.6518 - accuracy: 0.6156 - val_loss: 0.6592 - val_accuracy: 0.5883\n",
            "Epoch 9/100\n",
            "51/51 [==============================] - 0s 7ms/step - loss: 0.6527 - accuracy: 0.6172 - val_loss: 0.6717 - val_accuracy: 0.5876\n",
            "Epoch 10/100\n",
            "51/51 [==============================] - 0s 6ms/step - loss: 0.6533 - accuracy: 0.6097 - val_loss: 0.6416 - val_accuracy: 0.6243\n",
            "Epoch 11/100\n",
            "51/51 [==============================] - 0s 6ms/step - loss: 0.6503 - accuracy: 0.6209 - val_loss: 0.6437 - val_accuracy: 0.6168\n",
            "Epoch 12/100\n",
            "51/51 [==============================] - 0s 6ms/step - loss: 0.6505 - accuracy: 0.6168 - val_loss: 0.6455 - val_accuracy: 0.6299\n",
            "Epoch 13/100\n",
            "51/51 [==============================] - 0s 7ms/step - loss: 0.6524 - accuracy: 0.6152 - val_loss: 0.6444 - val_accuracy: 0.6165\n",
            "Epoch 14/100\n",
            "51/51 [==============================] - 0s 7ms/step - loss: 0.6495 - accuracy: 0.6122 - val_loss: 0.6358 - val_accuracy: 0.6246\n",
            "Epoch 15/100\n",
            "51/51 [==============================] - 0s 6ms/step - loss: 0.6515 - accuracy: 0.6180 - val_loss: 0.6365 - val_accuracy: 0.6314\n",
            "Epoch 16/100\n",
            "51/51 [==============================] - 0s 6ms/step - loss: 0.6519 - accuracy: 0.6163 - val_loss: 0.6374 - val_accuracy: 0.6342\n",
            "Epoch 17/100\n",
            "51/51 [==============================] - 0s 6ms/step - loss: 0.6508 - accuracy: 0.6200 - val_loss: 0.6391 - val_accuracy: 0.6349\n",
            "Epoch 18/100\n",
            "51/51 [==============================] - 0s 6ms/step - loss: 0.6512 - accuracy: 0.6158 - val_loss: 0.6357 - val_accuracy: 0.6305\n",
            "Epoch 19/100\n",
            "51/51 [==============================] - 0s 6ms/step - loss: 0.6500 - accuracy: 0.6139 - val_loss: 0.6348 - val_accuracy: 0.6364\n",
            "Epoch 20/100\n",
            "51/51 [==============================] - 0s 6ms/step - loss: 0.6487 - accuracy: 0.6205 - val_loss: 0.6393 - val_accuracy: 0.6352\n",
            "Epoch 21/100\n",
            "51/51 [==============================] - 0s 7ms/step - loss: 0.6501 - accuracy: 0.6145 - val_loss: 0.6362 - val_accuracy: 0.6392\n",
            "Epoch 22/100\n",
            "51/51 [==============================] - 0s 6ms/step - loss: 0.6476 - accuracy: 0.6187 - val_loss: 0.6375 - val_accuracy: 0.6321\n",
            "Epoch 23/100\n",
            "51/51 [==============================] - 0s 6ms/step - loss: 0.6474 - accuracy: 0.6210 - val_loss: 0.6587 - val_accuracy: 0.6032\n",
            "Epoch 24/100\n",
            "51/51 [==============================] - 0s 7ms/step - loss: 0.6470 - accuracy: 0.6247 - val_loss: 0.6515 - val_accuracy: 0.6119\n",
            "Epoch 25/100\n",
            "51/51 [==============================] - 0s 6ms/step - loss: 0.6472 - accuracy: 0.6213 - val_loss: 0.6422 - val_accuracy: 0.6249\n",
            "Epoch 26/100\n",
            "51/51 [==============================] - 0s 6ms/step - loss: 0.6493 - accuracy: 0.6133 - val_loss: 0.6366 - val_accuracy: 0.6293\n",
            "Epoch 27/100\n",
            "51/51 [==============================] - 0s 6ms/step - loss: 0.6495 - accuracy: 0.6178 - val_loss: 0.6386 - val_accuracy: 0.6249\n",
            "Epoch 28/100\n",
            "51/51 [==============================] - 0s 7ms/step - loss: 0.6490 - accuracy: 0.6146 - val_loss: 0.6516 - val_accuracy: 0.6081\n",
            "Epoch 29/100\n",
            "51/51 [==============================] - 0s 6ms/step - loss: 0.6480 - accuracy: 0.6189 - val_loss: 0.6336 - val_accuracy: 0.6321\n",
            "Epoch 30/100\n",
            "51/51 [==============================] - 0s 6ms/step - loss: 0.6474 - accuracy: 0.6202 - val_loss: 0.6400 - val_accuracy: 0.6168\n",
            "Epoch 31/100\n",
            "51/51 [==============================] - 0s 7ms/step - loss: 0.6491 - accuracy: 0.6153 - val_loss: 0.6374 - val_accuracy: 0.6287\n",
            "Epoch 32/100\n",
            "51/51 [==============================] - 0s 6ms/step - loss: 0.6479 - accuracy: 0.6193 - val_loss: 0.6370 - val_accuracy: 0.6349\n",
            "Epoch 33/100\n",
            "51/51 [==============================] - 0s 6ms/step - loss: 0.6474 - accuracy: 0.6241 - val_loss: 0.6463 - val_accuracy: 0.6041\n",
            "Epoch 34/100\n",
            "51/51 [==============================] - 0s 7ms/step - loss: 0.6481 - accuracy: 0.6191 - val_loss: 0.6442 - val_accuracy: 0.6181\n",
            "Epoch 35/100\n",
            "51/51 [==============================] - 0s 6ms/step - loss: 0.6472 - accuracy: 0.6226 - val_loss: 0.6381 - val_accuracy: 0.6274\n",
            "Epoch 36/100\n",
            "51/51 [==============================] - 0s 6ms/step - loss: 0.6448 - accuracy: 0.6197 - val_loss: 0.6558 - val_accuracy: 0.6252\n",
            "Epoch 37/100\n",
            "51/51 [==============================] - 0s 7ms/step - loss: 0.6472 - accuracy: 0.6227 - val_loss: 0.6354 - val_accuracy: 0.6318\n",
            "Epoch 38/100\n",
            "51/51 [==============================] - 0s 6ms/step - loss: 0.6458 - accuracy: 0.6244 - val_loss: 0.6474 - val_accuracy: 0.6240\n",
            "Epoch 39/100\n",
            "51/51 [==============================] - 0s 6ms/step - loss: 0.6460 - accuracy: 0.6189 - val_loss: 0.6385 - val_accuracy: 0.6336\n",
            "Epoch 40/100\n",
            "51/51 [==============================] - 0s 6ms/step - loss: 0.6468 - accuracy: 0.6197 - val_loss: 0.6377 - val_accuracy: 0.6299\n",
            "Epoch 41/100\n",
            "51/51 [==============================] - 0s 6ms/step - loss: 0.6469 - accuracy: 0.6167 - val_loss: 0.6343 - val_accuracy: 0.6296\n",
            "Epoch 42/100\n",
            "51/51 [==============================] - 0s 6ms/step - loss: 0.6462 - accuracy: 0.6213 - val_loss: 0.6321 - val_accuracy: 0.6305\n",
            "Epoch 43/100\n",
            "51/51 [==============================] - 0s 6ms/step - loss: 0.6485 - accuracy: 0.6186 - val_loss: 0.6344 - val_accuracy: 0.6380\n",
            "Epoch 44/100\n",
            "51/51 [==============================] - 0s 6ms/step - loss: 0.6452 - accuracy: 0.6189 - val_loss: 0.6308 - val_accuracy: 0.6327\n",
            "Epoch 45/100\n",
            "51/51 [==============================] - 0s 7ms/step - loss: 0.6450 - accuracy: 0.6213 - val_loss: 0.6435 - val_accuracy: 0.6243\n",
            "Epoch 46/100\n",
            "51/51 [==============================] - 0s 6ms/step - loss: 0.6471 - accuracy: 0.6218 - val_loss: 0.6317 - val_accuracy: 0.6377\n",
            "Epoch 47/100\n",
            "51/51 [==============================] - 0s 6ms/step - loss: 0.6452 - accuracy: 0.6255 - val_loss: 0.6352 - val_accuracy: 0.6240\n",
            "Epoch 48/100\n",
            "51/51 [==============================] - 0s 6ms/step - loss: 0.6443 - accuracy: 0.6281 - val_loss: 0.6419 - val_accuracy: 0.6206\n",
            "Epoch 49/100\n",
            "51/51 [==============================] - 0s 6ms/step - loss: 0.6472 - accuracy: 0.6252 - val_loss: 0.6481 - val_accuracy: 0.6231\n",
            "Epoch 50/100\n",
            "51/51 [==============================] - 0s 6ms/step - loss: 0.6457 - accuracy: 0.6210 - val_loss: 0.6350 - val_accuracy: 0.6299\n",
            "Epoch 51/100\n",
            "51/51 [==============================] - 0s 6ms/step - loss: 0.6444 - accuracy: 0.6256 - val_loss: 0.6344 - val_accuracy: 0.6277\n",
            "Epoch 52/100\n",
            "51/51 [==============================] - 0s 7ms/step - loss: 0.6455 - accuracy: 0.6237 - val_loss: 0.6404 - val_accuracy: 0.6352\n",
            "Epoch 53/100\n",
            "51/51 [==============================] - 0s 7ms/step - loss: 0.6449 - accuracy: 0.6262 - val_loss: 0.6369 - val_accuracy: 0.6339\n",
            "Epoch 54/100\n",
            "51/51 [==============================] - 0s 7ms/step - loss: 0.6470 - accuracy: 0.6241 - val_loss: 0.6339 - val_accuracy: 0.6274\n",
            "Epoch 55/100\n",
            "51/51 [==============================] - 0s 6ms/step - loss: 0.6432 - accuracy: 0.6231 - val_loss: 0.6394 - val_accuracy: 0.6196\n",
            "Epoch 56/100\n",
            "51/51 [==============================] - 0s 6ms/step - loss: 0.6436 - accuracy: 0.6220 - val_loss: 0.6345 - val_accuracy: 0.6346\n",
            "Epoch 57/100\n",
            "51/51 [==============================] - 0s 7ms/step - loss: 0.6454 - accuracy: 0.6235 - val_loss: 0.6363 - val_accuracy: 0.6339\n",
            "Epoch 58/100\n",
            "51/51 [==============================] - 0s 7ms/step - loss: 0.6455 - accuracy: 0.6231 - val_loss: 0.6343 - val_accuracy: 0.6370\n",
            "Epoch 59/100\n",
            "51/51 [==============================] - 0s 6ms/step - loss: 0.6454 - accuracy: 0.6223 - val_loss: 0.6355 - val_accuracy: 0.6389\n",
            "Epoch 60/100\n",
            "51/51 [==============================] - 0s 6ms/step - loss: 0.6458 - accuracy: 0.6234 - val_loss: 0.6344 - val_accuracy: 0.6389\n",
            "Epoch 61/100\n",
            "51/51 [==============================] - 0s 6ms/step - loss: 0.6460 - accuracy: 0.6252 - val_loss: 0.6339 - val_accuracy: 0.6355\n",
            "Epoch 62/100\n",
            "51/51 [==============================] - 0s 6ms/step - loss: 0.6448 - accuracy: 0.6236 - val_loss: 0.6361 - val_accuracy: 0.6321\n",
            "Epoch 63/100\n",
            "51/51 [==============================] - 0s 8ms/step - loss: 0.6460 - accuracy: 0.6203 - val_loss: 0.6336 - val_accuracy: 0.6392\n",
            "Epoch 64/100\n",
            "51/51 [==============================] - 0s 6ms/step - loss: 0.6467 - accuracy: 0.6253 - val_loss: 0.6341 - val_accuracy: 0.6330\n",
            "Epoch 65/100\n",
            "51/51 [==============================] - 0s 6ms/step - loss: 0.6457 - accuracy: 0.6271 - val_loss: 0.6323 - val_accuracy: 0.6308\n",
            "Epoch 66/100\n",
            "51/51 [==============================] - 0s 7ms/step - loss: 0.6409 - accuracy: 0.6292 - val_loss: 0.6410 - val_accuracy: 0.6218\n",
            "Epoch 67/100\n",
            "51/51 [==============================] - 0s 6ms/step - loss: 0.6459 - accuracy: 0.6224 - val_loss: 0.6370 - val_accuracy: 0.6386\n",
            "Epoch 68/100\n",
            "51/51 [==============================] - 0s 6ms/step - loss: 0.6445 - accuracy: 0.6230 - val_loss: 0.6434 - val_accuracy: 0.6227\n",
            "Epoch 69/100\n",
            "51/51 [==============================] - 0s 6ms/step - loss: 0.6460 - accuracy: 0.6258 - val_loss: 0.6359 - val_accuracy: 0.6330\n",
            "Epoch 70/100\n",
            "51/51 [==============================] - 0s 7ms/step - loss: 0.6451 - accuracy: 0.6248 - val_loss: 0.6314 - val_accuracy: 0.6318\n",
            "Epoch 71/100\n",
            "51/51 [==============================] - 0s 7ms/step - loss: 0.6456 - accuracy: 0.6283 - val_loss: 0.6311 - val_accuracy: 0.6429\n",
            "Epoch 72/100\n",
            "51/51 [==============================] - 0s 6ms/step - loss: 0.6433 - accuracy: 0.6297 - val_loss: 0.6330 - val_accuracy: 0.6401\n",
            "Epoch 73/100\n",
            "51/51 [==============================] - 0s 6ms/step - loss: 0.6451 - accuracy: 0.6264 - val_loss: 0.6300 - val_accuracy: 0.6377\n",
            "Epoch 74/100\n",
            "51/51 [==============================] - 0s 6ms/step - loss: 0.6455 - accuracy: 0.6290 - val_loss: 0.6395 - val_accuracy: 0.6346\n",
            "Epoch 75/100\n",
            "51/51 [==============================] - 0s 6ms/step - loss: 0.6492 - accuracy: 0.6208 - val_loss: 0.6336 - val_accuracy: 0.6352\n",
            "Epoch 76/100\n",
            "51/51 [==============================] - 0s 6ms/step - loss: 0.6476 - accuracy: 0.6240 - val_loss: 0.6341 - val_accuracy: 0.6318\n",
            "Epoch 77/100\n",
            "51/51 [==============================] - 0s 6ms/step - loss: 0.6457 - accuracy: 0.6249 - val_loss: 0.6316 - val_accuracy: 0.6417\n",
            "Epoch 78/100\n",
            "51/51 [==============================] - 0s 6ms/step - loss: 0.6442 - accuracy: 0.6269 - val_loss: 0.6399 - val_accuracy: 0.6302\n",
            "Epoch 79/100\n",
            "51/51 [==============================] - 0s 7ms/step - loss: 0.6460 - accuracy: 0.6213 - val_loss: 0.6338 - val_accuracy: 0.6364\n",
            "Epoch 80/100\n",
            "51/51 [==============================] - 0s 6ms/step - loss: 0.6457 - accuracy: 0.6242 - val_loss: 0.6351 - val_accuracy: 0.6333\n",
            "Epoch 81/100\n",
            "51/51 [==============================] - 0s 7ms/step - loss: 0.6452 - accuracy: 0.6244 - val_loss: 0.6361 - val_accuracy: 0.6352\n",
            "Epoch 82/100\n",
            "51/51 [==============================] - 0s 6ms/step - loss: 0.6458 - accuracy: 0.6283 - val_loss: 0.6365 - val_accuracy: 0.6349\n",
            "Epoch 83/100\n",
            "51/51 [==============================] - 0s 7ms/step - loss: 0.6464 - accuracy: 0.6241 - val_loss: 0.6394 - val_accuracy: 0.6212\n",
            "Epoch 84/100\n",
            "51/51 [==============================] - 0s 7ms/step - loss: 0.6444 - accuracy: 0.6232 - val_loss: 0.6394 - val_accuracy: 0.6103\n",
            "Epoch 85/100\n",
            "51/51 [==============================] - 0s 6ms/step - loss: 0.6446 - accuracy: 0.6190 - val_loss: 0.6407 - val_accuracy: 0.6283\n",
            "Epoch 86/100\n",
            "51/51 [==============================] - 0s 6ms/step - loss: 0.6451 - accuracy: 0.6220 - val_loss: 0.6453 - val_accuracy: 0.6025\n",
            "Epoch 87/100\n",
            "51/51 [==============================] - 0s 6ms/step - loss: 0.6455 - accuracy: 0.6228 - val_loss: 0.6376 - val_accuracy: 0.6367\n",
            "Epoch 88/100\n",
            "51/51 [==============================] - 0s 6ms/step - loss: 0.6461 - accuracy: 0.6216 - val_loss: 0.6372 - val_accuracy: 0.6358\n",
            "Epoch 89/100\n",
            "51/51 [==============================] - 0s 6ms/step - loss: 0.6446 - accuracy: 0.6239 - val_loss: 0.6411 - val_accuracy: 0.6181\n",
            "Epoch 90/100\n",
            "51/51 [==============================] - 0s 7ms/step - loss: 0.6453 - accuracy: 0.6224 - val_loss: 0.6341 - val_accuracy: 0.6367\n",
            "Epoch 91/100\n",
            "51/51 [==============================] - 0s 7ms/step - loss: 0.6437 - accuracy: 0.6303 - val_loss: 0.6339 - val_accuracy: 0.6355\n",
            "Epoch 92/100\n",
            "51/51 [==============================] - 0s 6ms/step - loss: 0.6433 - accuracy: 0.6313 - val_loss: 0.6378 - val_accuracy: 0.6367\n",
            "Epoch 93/100\n",
            "51/51 [==============================] - 0s 7ms/step - loss: 0.6452 - accuracy: 0.6256 - val_loss: 0.6360 - val_accuracy: 0.6355\n",
            "Epoch 94/100\n",
            "51/51 [==============================] - 0s 7ms/step - loss: 0.6432 - accuracy: 0.6280 - val_loss: 0.6389 - val_accuracy: 0.6308\n",
            "Epoch 95/100\n",
            "51/51 [==============================] - 0s 7ms/step - loss: 0.6440 - accuracy: 0.6251 - val_loss: 0.6354 - val_accuracy: 0.6305\n",
            "Epoch 96/100\n",
            "51/51 [==============================] - 0s 6ms/step - loss: 0.6438 - accuracy: 0.6258 - val_loss: 0.6363 - val_accuracy: 0.6349\n",
            "Epoch 97/100\n",
            "51/51 [==============================] - 0s 6ms/step - loss: 0.6427 - accuracy: 0.6278 - val_loss: 0.6372 - val_accuracy: 0.6374\n",
            "Epoch 98/100\n",
            "51/51 [==============================] - 0s 6ms/step - loss: 0.6438 - accuracy: 0.6277 - val_loss: 0.6367 - val_accuracy: 0.6352\n",
            "Epoch 99/100\n",
            "51/51 [==============================] - 0s 7ms/step - loss: 0.6458 - accuracy: 0.6217 - val_loss: 0.6392 - val_accuracy: 0.6296\n",
            "Epoch 100/100\n",
            "51/51 [==============================] - 0s 6ms/step - loss: 0.6458 - accuracy: 0.6257 - val_loss: 0.6366 - val_accuracy: 0.6367\n"
          ]
        },
        {
          "output_type": "execute_result",
          "data": {
            "text/plain": [
              "<keras.callbacks.History at 0x7f55cc51fe50>"
            ]
          },
          "metadata": {},
          "execution_count": 182
        }
      ]
    },
    {
      "cell_type": "code",
      "source": [
        "model.summary"
      ],
      "metadata": {
        "colab": {
          "base_uri": "https://localhost:8080/"
        },
        "id": "d-ombN_PfxtH",
        "outputId": "bd1956ab-f500-4f13-b9f3-f8b514309dca"
      },
      "execution_count": 183,
      "outputs": [
        {
          "output_type": "execute_result",
          "data": {
            "text/plain": [
              "<bound method Model.summary of <keras.engine.sequential.Sequential object at 0x7f55cc4d0490>>"
            ]
          },
          "metadata": {},
          "execution_count": 183
        }
      ]
    },
    {
      "cell_type": "code",
      "source": [
        "model.summary()"
      ],
      "metadata": {
        "colab": {
          "base_uri": "https://localhost:8080/"
        },
        "id": "gu5o1AhMg6YN",
        "outputId": "5df1a19c-28c5-4348-b1b9-3a6ae3d13c60"
      },
      "execution_count": 184,
      "outputs": [
        {
          "output_type": "stream",
          "name": "stdout",
          "text": [
            "Model: \"sequential_1\"\n",
            "_________________________________________________________________\n",
            " Layer (type)                Output Shape              Param #   \n",
            "=================================================================\n",
            " dense_1 (Dense)             (None, 19)                190       \n",
            "                                                                 \n",
            " dropout (Dropout)           (None, 19)                0         \n",
            "                                                                 \n",
            " dense_2 (Dense)             (None, 10)                200       \n",
            "                                                                 \n",
            " dropout_1 (Dropout)         (None, 10)                0         \n",
            "                                                                 \n",
            " dense_3 (Dense)             (None, 1)                 11        \n",
            "                                                                 \n",
            " dense_4 (Dense)             (None, 128)               256       \n",
            "                                                                 \n",
            " batch_normalization (BatchN  (None, 128)              512       \n",
            " ormalization)                                                   \n",
            "                                                                 \n",
            " dropout_2 (Dropout)         (None, 128)               0         \n",
            "                                                                 \n",
            " dense_5 (Dense)             (None, 64)                8256      \n",
            "                                                                 \n",
            " batch_normalization_1 (Batc  (None, 64)               256       \n",
            " hNormalization)                                                 \n",
            "                                                                 \n",
            " dropout_3 (Dropout)         (None, 64)                0         \n",
            "                                                                 \n",
            " dense_6 (Dense)             (None, 32)                2080      \n",
            "                                                                 \n",
            " batch_normalization_2 (Batc  (None, 32)               128       \n",
            " hNormalization)                                                 \n",
            "                                                                 \n",
            " dropout_4 (Dropout)         (None, 32)                0         \n",
            "                                                                 \n",
            " dense_7 (Dense)             (None, 1)                 33        \n",
            "                                                                 \n",
            "=================================================================\n",
            "Total params: 11,922\n",
            "Trainable params: 11,474\n",
            "Non-trainable params: 448\n",
            "_________________________________________________________________\n"
          ]
        }
      ]
    },
    {
      "cell_type": "code",
      "source": [
        "predictions=(model.predict(X_test)>0.5).astype('int32')\n",
        "print(classification_report(y_test,predictions))"
      ],
      "metadata": {
        "colab": {
          "base_uri": "https://localhost:8080/"
        },
        "id": "eMC1W9_JhXQH",
        "outputId": "0badc2c1-2760-4254-f80b-5526f73f8310"
      },
      "execution_count": 185,
      "outputs": [
        {
          "output_type": "stream",
          "name": "stdout",
          "text": [
            "              precision    recall  f1-score   support\n",
            "\n",
            "           0       0.71      0.45      0.55      1595\n",
            "           1       0.60      0.82      0.70      1623\n",
            "\n",
            "    accuracy                           0.64      3218\n",
            "   macro avg       0.66      0.64      0.62      3218\n",
            "weighted avg       0.66      0.64      0.62      3218\n",
            "\n"
          ]
        }
      ]
    },
    {
      "cell_type": "code",
      "source": [
        "accuracy_score(y_test,predictions)"
      ],
      "metadata": {
        "colab": {
          "base_uri": "https://localhost:8080/"
        },
        "id": "Ek10wy_mjQ0D",
        "outputId": "d5710f23-aa9f-4586-d6da-58482bf1eb43"
      },
      "execution_count": 186,
      "outputs": [
        {
          "output_type": "execute_result",
          "data": {
            "text/plain": [
              "0.6367308887507769"
            ]
          },
          "metadata": {},
          "execution_count": 186
        }
      ]
    },
    {
      "cell_type": "markdown",
      "source": [
        "#This accuracy score is an improvement from 61.5% to 68.7%"
      ],
      "metadata": {
        "id": "H_Kx7CI_lBvs"
      }
    },
    {
      "cell_type": "markdown",
      "source": [
        "Hyperparameter Tuning"
      ],
      "metadata": {
        "id": "m6NFgyzGpCzj"
      }
    },
    {
      "cell_type": "code",
      "source": [
        "!pip install keras-tuner --upgrade\n"
      ],
      "metadata": {
        "colab": {
          "base_uri": "https://localhost:8080/"
        },
        "id": "FImiWMu4oz7V",
        "outputId": "d7112031-fa3a-4653-be07-e396862b680a"
      },
      "execution_count": 195,
      "outputs": [
        {
          "output_type": "stream",
          "name": "stdout",
          "text": [
            "Looking in indexes: https://pypi.org/simple, https://us-python.pkg.dev/colab-wheels/public/simple/\n",
            "Requirement already satisfied: keras-tuner in /usr/local/lib/python3.7/dist-packages (1.1.3)\n",
            "Requirement already satisfied: packaging in /usr/local/lib/python3.7/dist-packages (from keras-tuner) (21.3)\n",
            "Requirement already satisfied: numpy in /usr/local/lib/python3.7/dist-packages (from keras-tuner) (1.21.6)\n",
            "Requirement already satisfied: ipython in /usr/local/lib/python3.7/dist-packages (from keras-tuner) (7.9.0)\n",
            "Requirement already satisfied: requests in /usr/local/lib/python3.7/dist-packages (from keras-tuner) (2.23.0)\n",
            "Requirement already satisfied: kt-legacy in /usr/local/lib/python3.7/dist-packages (from keras-tuner) (1.0.4)\n",
            "Requirement already satisfied: tensorboard in /usr/local/lib/python3.7/dist-packages (from keras-tuner) (2.8.0)\n",
            "Requirement already satisfied: jedi>=0.10 in /usr/local/lib/python3.7/dist-packages (from ipython->keras-tuner) (0.18.1)\n",
            "Requirement already satisfied: pexpect in /usr/local/lib/python3.7/dist-packages (from ipython->keras-tuner) (4.8.0)\n",
            "Requirement already satisfied: pygments in /usr/local/lib/python3.7/dist-packages (from ipython->keras-tuner) (2.6.1)\n",
            "Requirement already satisfied: backcall in /usr/local/lib/python3.7/dist-packages (from ipython->keras-tuner) (0.2.0)\n",
            "Requirement already satisfied: prompt-toolkit<2.1.0,>=2.0.0 in /usr/local/lib/python3.7/dist-packages (from ipython->keras-tuner) (2.0.10)\n",
            "Requirement already satisfied: setuptools>=18.5 in /usr/local/lib/python3.7/dist-packages (from ipython->keras-tuner) (57.4.0)\n",
            "Requirement already satisfied: traitlets>=4.2 in /usr/local/lib/python3.7/dist-packages (from ipython->keras-tuner) (5.1.1)\n",
            "Requirement already satisfied: pickleshare in /usr/local/lib/python3.7/dist-packages (from ipython->keras-tuner) (0.7.5)\n",
            "Requirement already satisfied: decorator in /usr/local/lib/python3.7/dist-packages (from ipython->keras-tuner) (4.4.2)\n",
            "Requirement already satisfied: parso<0.9.0,>=0.8.0 in /usr/local/lib/python3.7/dist-packages (from jedi>=0.10->ipython->keras-tuner) (0.8.3)\n",
            "Requirement already satisfied: wcwidth in /usr/local/lib/python3.7/dist-packages (from prompt-toolkit<2.1.0,>=2.0.0->ipython->keras-tuner) (0.2.5)\n",
            "Requirement already satisfied: six>=1.9.0 in /usr/local/lib/python3.7/dist-packages (from prompt-toolkit<2.1.0,>=2.0.0->ipython->keras-tuner) (1.15.0)\n",
            "Requirement already satisfied: pyparsing!=3.0.5,>=2.0.2 in /usr/local/lib/python3.7/dist-packages (from packaging->keras-tuner) (3.0.9)\n",
            "Requirement already satisfied: ptyprocess>=0.5 in /usr/local/lib/python3.7/dist-packages (from pexpect->ipython->keras-tuner) (0.7.0)\n",
            "Requirement already satisfied: certifi>=2017.4.17 in /usr/local/lib/python3.7/dist-packages (from requests->keras-tuner) (2022.6.15)\n",
            "Requirement already satisfied: chardet<4,>=3.0.2 in /usr/local/lib/python3.7/dist-packages (from requests->keras-tuner) (3.0.4)\n",
            "Requirement already satisfied: idna<3,>=2.5 in /usr/local/lib/python3.7/dist-packages (from requests->keras-tuner) (2.10)\n",
            "Requirement already satisfied: urllib3!=1.25.0,!=1.25.1,<1.26,>=1.21.1 in /usr/local/lib/python3.7/dist-packages (from requests->keras-tuner) (1.24.3)\n",
            "Requirement already satisfied: werkzeug>=0.11.15 in /usr/local/lib/python3.7/dist-packages (from tensorboard->keras-tuner) (1.0.1)\n",
            "Requirement already satisfied: google-auth<3,>=1.6.3 in /usr/local/lib/python3.7/dist-packages (from tensorboard->keras-tuner) (1.35.0)\n",
            "Requirement already satisfied: protobuf>=3.6.0 in /usr/local/lib/python3.7/dist-packages (from tensorboard->keras-tuner) (3.17.3)\n",
            "Requirement already satisfied: absl-py>=0.4 in /usr/local/lib/python3.7/dist-packages (from tensorboard->keras-tuner) (1.2.0)\n",
            "Requirement already satisfied: tensorboard-plugin-wit>=1.6.0 in /usr/local/lib/python3.7/dist-packages (from tensorboard->keras-tuner) (1.8.1)\n",
            "Requirement already satisfied: tensorboard-data-server<0.7.0,>=0.6.0 in /usr/local/lib/python3.7/dist-packages (from tensorboard->keras-tuner) (0.6.1)\n",
            "Requirement already satisfied: google-auth-oauthlib<0.5,>=0.4.1 in /usr/local/lib/python3.7/dist-packages (from tensorboard->keras-tuner) (0.4.6)\n",
            "Requirement already satisfied: grpcio>=1.24.3 in /usr/local/lib/python3.7/dist-packages (from tensorboard->keras-tuner) (1.48.1)\n",
            "Requirement already satisfied: markdown>=2.6.8 in /usr/local/lib/python3.7/dist-packages (from tensorboard->keras-tuner) (3.4.1)\n",
            "Requirement already satisfied: wheel>=0.26 in /usr/local/lib/python3.7/dist-packages (from tensorboard->keras-tuner) (0.37.1)\n",
            "Requirement already satisfied: cachetools<5.0,>=2.0.0 in /usr/local/lib/python3.7/dist-packages (from google-auth<3,>=1.6.3->tensorboard->keras-tuner) (4.2.4)\n",
            "Requirement already satisfied: rsa<5,>=3.1.4 in /usr/local/lib/python3.7/dist-packages (from google-auth<3,>=1.6.3->tensorboard->keras-tuner) (4.9)\n",
            "Requirement already satisfied: pyasn1-modules>=0.2.1 in /usr/local/lib/python3.7/dist-packages (from google-auth<3,>=1.6.3->tensorboard->keras-tuner) (0.2.8)\n",
            "Requirement already satisfied: requests-oauthlib>=0.7.0 in /usr/local/lib/python3.7/dist-packages (from google-auth-oauthlib<0.5,>=0.4.1->tensorboard->keras-tuner) (1.3.1)\n",
            "Requirement already satisfied: importlib-metadata>=4.4 in /usr/local/lib/python3.7/dist-packages (from markdown>=2.6.8->tensorboard->keras-tuner) (4.12.0)\n",
            "Requirement already satisfied: zipp>=0.5 in /usr/local/lib/python3.7/dist-packages (from importlib-metadata>=4.4->markdown>=2.6.8->tensorboard->keras-tuner) (3.8.1)\n",
            "Requirement already satisfied: typing-extensions>=3.6.4 in /usr/local/lib/python3.7/dist-packages (from importlib-metadata>=4.4->markdown>=2.6.8->tensorboard->keras-tuner) (4.1.1)\n",
            "Requirement already satisfied: pyasn1<0.5.0,>=0.4.6 in /usr/local/lib/python3.7/dist-packages (from pyasn1-modules>=0.2.1->google-auth<3,>=1.6.3->tensorboard->keras-tuner) (0.4.8)\n",
            "Requirement already satisfied: oauthlib>=3.0.0 in /usr/local/lib/python3.7/dist-packages (from requests-oauthlib>=0.7.0->google-auth-oauthlib<0.5,>=0.4.1->tensorboard->keras-tuner) (3.2.0)\n"
          ]
        }
      ]
    },
    {
      "cell_type": "code",
      "source": [
        "#Writing model inside a function\n",
        "\n",
        "def build_model(hp):\n",
        "  model=Sequential()\n",
        "\n",
        "  #first hidden layer\n",
        "  model.add(Dense(units=hp.Int('units',min_value=32, max_value=1024, step=16),activation=hp.Choice('activation',['relu','tanh']),input_shape=[9]))\n",
        "  model.add(BatchNormalization())\n",
        "  model.add(Dropout(hp.Float('rate',min_value=0.1, max_value=0.4, step=0.1)))\n",
        "\n",
        "  #second hidden layer\n",
        "  model.add(Dense(units=hp.Int('units',min_value=32, max_value=1024, step=16),activation=hp.Choice('activation',['relu','tanh'])))\n",
        "  model.add(BatchNormalization())\n",
        "  model.add(Dropout(hp.Float('rate',min_value=0.1, max_value=0.4, step=0.1)))\n",
        "\n",
        "  #third hidden layer\n",
        "  model.add(Dense(units=hp.Int('units',min_value=32, max_value=1024, step=16),activation=hp.Choice('activation',['relu','tanh'])))\n",
        "  model.add(BatchNormalization())\n",
        "  model.add(Dropout(hp.Float('rate',min_value=0.1, max_value=0.4, step=0.1)))\n",
        "  #output layer\n",
        "  model.add(Dense(1,activation='sigmoid'))\n",
        "\n",
        "  #Compile the model \n",
        "  model.compile(loss='binary_crossentropy', optimizer=tensorflow.keras.optimizers.Adam (learning_rate=0.01),metrics=['accuracy'])\n",
        "\n",
        "  learning_rate=hp.Float('learning_rate',min_value=0.001, max_value=0.1, step=0.1)\n",
        "\n",
        "  #Compile the model \n",
        "  model.compile(loss='binary_crossentropy', optimizer='adam',metrics=['accuracy'])\n",
        "\n",
        "  return model"
      ],
      "metadata": {
        "id": "6musi4gyo9bK"
      },
      "execution_count": 196,
      "outputs": []
    },
    {
      "cell_type": "code",
      "source": [
        "import keras_tuner as kt\n",
        "build_model(kt.HyperParameters())"
      ],
      "metadata": {
        "colab": {
          "base_uri": "https://localhost:8080/"
        },
        "id": "gDw0AzxhsVPj",
        "outputId": "6e8e92ac-fca6-4956-93c0-cfa4e8f72ee7"
      },
      "execution_count": 197,
      "outputs": [
        {
          "output_type": "execute_result",
          "data": {
            "text/plain": [
              "<keras.engine.sequential.Sequential at 0x7f55cc883290>"
            ]
          },
          "metadata": {},
          "execution_count": 197
        }
      ]
    },
    {
      "cell_type": "code",
      "source": [
        "rtuner=kt.RandomSearch(hypermodel=build_model,\n",
        "                       objective='val_accuracy',\n",
        "                       max_trials=10,\n",
        "                       executions_per_trial=2,\n",
        "                       overwrite=True\n",
        "                       )"
      ],
      "metadata": {
        "id": "Mor0i4Lxsz72"
      },
      "execution_count": 200,
      "outputs": []
    },
    {
      "cell_type": "code",
      "source": [
        "rtuner.search(X_train,y_train,epochs=4,validation_data=(X_test,y_test))"
      ],
      "metadata": {
        "colab": {
          "base_uri": "https://localhost:8080/"
        },
        "id": "q9irbnIJtuj0",
        "outputId": "d45d9358-3d0b-460c-b8f5-dde1bf3520a0"
      },
      "execution_count": 201,
      "outputs": [
        {
          "output_type": "stream",
          "name": "stdout",
          "text": [
            "Trial 10 Complete [00h 00m 30s]\n",
            "val_accuracy: 0.6361093819141388\n",
            "\n",
            "Best val_accuracy So Far: 0.6502485871315002\n",
            "Total elapsed time: 00h 09m 30s\n"
          ]
        }
      ]
    }
  ]
}